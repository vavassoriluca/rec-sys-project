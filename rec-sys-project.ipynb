{
 "cells": [
  {
   "cell_type": "markdown",
   "metadata": {},
   "source": [
    "# Recommender Systems project\n",
    "## SLIM with structure"
   ]
  },
  {
   "cell_type": "code",
   "execution_count": 1,
   "metadata": {},
   "outputs": [],
   "source": [
    "import sys\n",
    "sys.path.append('.')"
   ]
  },
  {
   "cell_type": "markdown",
   "metadata": {},
   "source": [
    "Import all the Recommenders to be evaluated"
   ]
  },
  {
   "cell_type": "code",
   "execution_count": 2,
   "metadata": {},
   "outputs": [],
   "source": [
    "from SLIM_Elastic_Net_Structured.SLIM_Elastic_Net_Structured import SLIM_Elastic_Net_Structured\n",
    "from KNN.item_knn_CF import ItemKNNCFRecommender\n",
    "from KNN.item_knn_CBF import ItemKNNCBFRecommender\n",
    "from SLIM_RMSE.SLIM_RMSE import SLIM_RMSE"
   ]
  },
  {
   "cell_type": "markdown",
   "metadata": {},
   "source": [
    "### Load the datasets on which we want to compare the algorithms"
   ]
  },
  {
   "cell_type": "markdown",
   "metadata": {},
   "source": [
    "### TheMoviesDataset"
   ]
  },
  {
   "cell_type": "code",
   "execution_count": 3,
   "metadata": {},
   "outputs": [],
   "source": [
    " from scipy import sparse as sps\n",
    "\n",
    "TMD_URM = sps.load_npz(\"./data/TheMoviesDataset/URM_all.npz\")\n",
    "TMD_ICM = sps.load_npz(\"./data/TheMoviesDataset/ICM_all.npz\")\n",
    "\n"
   ]
  },
  {
   "cell_type": "markdown",
   "metadata": {},
   "source": [
    "### TheMoviesDataset 10% and 50% features"
   ]
  },
  {
   "cell_type": "code",
   "execution_count": 4,
   "metadata": {},
   "outputs": [
    {
     "name": "stdout",
     "output_type": "stream",
     "text": [
      "(45433, 4910)\n",
      "(45433, 24551)\n"
     ]
    }
   ],
   "source": [
    "import numpy as np\n",
    "\n",
    "features_frequency = TMD_ICM.sum(axis=0)\n",
    "features_arg = np.asarray(np.argsort(features_frequency.squeeze())).reshape(-1)[::-1]\n",
    "features_arg10 = features_arg[:len(features_arg)//10]\n",
    "features_arg50 = features_arg[:len(features_arg)//2]\n",
    "\n",
    "TMD_ICM10 = TMD_ICM[:,features_arg10]\n",
    "TMD_ICM50 = TMD_ICM[:,features_arg50]\n",
    "\n",
    "print(TMD_ICM10.shape)\n",
    "print(TMD_ICM50.shape)"
   ]
  },
  {
   "cell_type": "code",
   "execution_count": 5,
   "metadata": {},
   "outputs": [
    {
     "name": "stdout",
     "output_type": "stream",
     "text": [
      "TMD_ICM10 Sparcity: 0.998379794548074\n",
      "TMD_ICM50 Sparcity: 0.9994530078838976\n"
     ]
    }
   ],
   "source": [
    "print(\"TMD_ICM10 Sparcity: {}\".format(1 - TMD_ICM10.nnz/(TMD_ICM10.shape[0]*TMD_ICM10.shape[1])))\n",
    "print(\"TMD_ICM50 Sparcity: {}\".format(1 - TMD_ICM50.nnz/(TMD_ICM50.shape[0]*TMD_ICM50.shape[1])))"
   ]
  },
  {
   "cell_type": "markdown",
   "metadata": {},
   "source": [
    "#### Splitting in train and test the URM"
   ]
  },
  {
   "cell_type": "code",
   "execution_count": 10,
   "metadata": {},
   "outputs": [
    {
     "name": "stdout",
     "output_type": "stream",
     "text": [
      "(270896, 45433)\n",
      "(45433, 49102)\n"
     ]
    }
   ],
   "source": [
    "from sklearn.model_selection import train_test_split\n",
    "\n",
    "print(TMD_URM.shape)\n",
    "print(TMD_ICM.shape)\n",
    "\n",
    "TMD_URM_train, TMD_URM_test = train_test_split(TMD_URM, test_size=0.33)"
   ]
  },
  {
   "cell_type": "code",
   "execution_count": 7,
   "metadata": {},
   "outputs": [
    {
     "name": "stdout",
     "output_type": "stream",
     "text": [
      "(181500, 45433)\n",
      "(89396, 45433)\n"
     ]
    }
   ],
   "source": [
    "print(TMD_URM_train.shape)\n",
    "print(TMD_URM_test.shape)"
   ]
  },
  {
   "cell_type": "markdown",
   "metadata": {},
   "source": [
    "## Movielens26"
   ]
  },
  {
   "cell_type": "code",
   "execution_count": 4,
   "metadata": {},
   "outputs": [],
   "source": [
    " from scipy import sparse as sps\n",
    "\n",
    "M26_ICM_GEN  = sps.load_npz(\"./data/ml-latest/icm26M_genres.npz\")\n",
    "M26_ICM_TAG = sps.load_npz(\"./data/ml-latest/icm26M_tags.npz\")\n",
    "M26_URM = sps.load_npz(\"./data/ml-latest/urm26M.npz\")"
   ]
  },
  {
   "cell_type": "markdown",
   "metadata": {},
   "source": [
    "#### Splitting in train and test the URM"
   ]
  },
  {
   "cell_type": "code",
   "execution_count": 5,
   "metadata": {},
   "outputs": [
    {
     "name": "stdout",
     "output_type": "stream",
     "text": [
      "(45843, 20)\n",
      "(45843, 53508)\n",
      "(270896, 45843)\n"
     ]
    }
   ],
   "source": [
    "from sklearn.model_selection import train_test_split\n",
    "\n",
    "print(M26_ICM_GEN.shape)\n",
    "print(M26_ICM_TAG.shape)\n",
    "print(M26_URM.shape)\n",
    "\n",
    "M26_URM_train, M26_URM_test = train_test_split(M26_URM, test_size=0.33)"
   ]
  },
  {
   "cell_type": "code",
   "execution_count": 6,
   "metadata": {},
   "outputs": [
    {
     "name": "stdout",
     "output_type": "stream",
     "text": [
      "(181500, 45843)\n",
      "(89396, 45843)\n"
     ]
    }
   ],
   "source": [
    "print(M26_URM_train.shape)\n",
    "print(M26_URM_test.shape)"
   ]
  },
  {
   "cell_type": "markdown",
   "metadata": {},
   "source": [
    "## Start testing"
   ]
  },
  {
   "cell_type": "markdown",
   "metadata": {},
   "source": [
    "### TheMovieDataSet"
   ]
  },
  {
   "cell_type": "markdown",
   "metadata": {},
   "source": [
    "### KNN collaborative filtering"
   ]
  },
  {
   "cell_type": "code",
   "execution_count": 21,
   "metadata": {},
   "outputs": [
    {
     "name": "stdout",
     "output_type": "stream",
     "text": [
      "Similarity column 10000 ( 22 % ), 241.79 column/sec, elapsed time 0.69 min\n",
      "Similarity column 20000 ( 44 % ), 364.78 column/sec, elapsed time 0.91 min\n",
      "Similarity column 30000 ( 66 % ), 487.80 column/sec, elapsed time 1.03 min\n",
      "Similarity column 40000 ( 88 % ), 600.95 column/sec, elapsed time 1.11 min\n",
      "Similarity column 45433 ( 100 % ), 657.82 column/sec, elapsed time 1.15 min\n"
     ]
    }
   ],
   "source": [
    "KNNrecommender = ItemKNNCFRecommender(TMD_URM_train)\n",
    "KNNrecommender.fit()"
   ]
  },
  {
   "cell_type": "code",
   "execution_count": 26,
   "metadata": {},
   "outputs": [
    {
     "data": {
      "text/plain": [
       "{'AUC': 0.16328739386752908,\n",
       " 'MRR': 0.18905935960684533,\n",
       " 'NDCG': 0.018557255206137824,\n",
       " 'map': 0.09102503054552336,\n",
       " 'precision': 0.12380611457273409,\n",
       " 'recall': 0.009259586463904812}"
      ]
     },
     "execution_count": 26,
     "metadata": {},
     "output_type": "execute_result"
    }
   ],
   "source": [
    "results_KNNCFR = KNNrecommender.evaluateRecommendations(TMD_URM_test, at=5, exclude_seen=True)\n",
    "results_KNNCFR"
   ]
  },
  {
   "cell_type": "markdown",
   "metadata": {},
   "source": [
    "### KNN content base filtering"
   ]
  },
  {
   "cell_type": "code",
   "execution_count": 30,
   "metadata": {},
   "outputs": [
    {
     "name": "stdout",
     "output_type": "stream",
     "text": [
      "Similarity column 10000 ( 22 % ), 1414.99 column/sec, elapsed time 0.12 min\n",
      "Similarity column 20000 ( 44 % ), 1456.93 column/sec, elapsed time 0.23 min\n",
      "Similarity column 30000 ( 66 % ), 1516.19 column/sec, elapsed time 0.33 min\n",
      "Similarity column 40000 ( 88 % ), 1563.21 column/sec, elapsed time 0.43 min\n",
      "Similarity column 45433 ( 100 % ), 1567.11 column/sec, elapsed time 0.48 min\n"
     ]
    }
   ],
   "source": [
    "KNNCBrecommender = ItemKNNCBFRecommender(TMD_ICM, TMD_URM_train)\n",
    "KNNCBrecommender.fit()"
   ]
  },
  {
   "cell_type": "code",
   "execution_count": 31,
   "metadata": {},
   "outputs": [
    {
     "name": "stdout",
     "output_type": "stream",
     "text": [
      "Processed 10000 ( 11.19% ) in 358.21 seconds. Users per second: 28\n",
      "Processed 20000 ( 22.37% ) in 715.80 seconds. Users per second: 28\n",
      "Processed 30000 ( 33.56% ) in 1073.20 seconds. Users per second: 28\n",
      "Processed 40000 ( 44.75% ) in 1431.92 seconds. Users per second: 28\n",
      "Processed 50000 ( 55.93% ) in 1768.91 seconds. Users per second: 28\n",
      "Processed 60000 ( 67.12% ) in 2083.54 seconds. Users per second: 29\n",
      "Processed 70000 ( 78.31% ) in 2397.96 seconds. Users per second: 29\n",
      "Processed 80000 ( 89.49% ) in 2714.02 seconds. Users per second: 29\n",
      "Processed 89392 ( 100.00% ) in 3007.67 seconds. Users per second: 30\n"
     ]
    },
    {
     "data": {
      "text/plain": [
       "{'AUC': 0.10482457612266392,\n",
       " 'MRR': 0.111912192975588,\n",
       " 'NDCG': 0.007462012060254801,\n",
       " 'map': 0.03904454673930252,\n",
       " 'precision': 0.058389359345799155,\n",
       " 'recall': 0.0036111568186750448}"
      ]
     },
     "execution_count": 31,
     "metadata": {},
     "output_type": "execute_result"
    }
   ],
   "source": [
    "results_KNNCBFR = KNNCBrecommender.evaluateRecommendations(TMD_URM_test, at=5, exclude_seen=True)\n",
    "results_KNNCBFR"
   ]
  },
  {
   "cell_type": "markdown",
   "metadata": {},
   "source": [
    "### SLIM ElasticNet"
   ]
  },
  {
   "cell_type": "code",
   "execution_count": 33,
   "metadata": {},
   "outputs": [
    {
     "name": "stdout",
     "output_type": "stream",
     "text": [
      "Processed 1344 ( 2.96% ) in 5.00 minutes. Columns per second: 4\n",
      "Processed 3157 ( 6.95% ) in 10.00 minutes. Columns per second: 5\n",
      "Processed 4807 ( 10.58% ) in 15.01 minutes. Columns per second: 5\n",
      "Processed 6422 ( 14.14% ) in 20.01 minutes. Columns per second: 5\n",
      "Processed 8506 ( 18.72% ) in 25.01 minutes. Columns per second: 6\n",
      "Processed 9979 ( 21.96% ) in 30.01 minutes. Columns per second: 6\n",
      "Processed 11935 ( 26.27% ) in 35.01 minutes. Columns per second: 6\n",
      "Processed 13620 ( 29.98% ) in 40.06 minutes. Columns per second: 6\n",
      "Processed 15077 ( 33.19% ) in 45.06 minutes. Columns per second: 6\n",
      "Processed 16253 ( 35.77% ) in 50.15 minutes. Columns per second: 5\n",
      "Processed 17378 ( 38.25% ) in 55.15 minutes. Columns per second: 5\n",
      "Processed 18495 ( 40.71% ) in 60.23 minutes. Columns per second: 5\n",
      "Processed 19106 ( 42.05% ) in 65.24 minutes. Columns per second: 5\n",
      "Processed 19704 ( 43.37% ) in 70.32 minutes. Columns per second: 5\n",
      "Processed 20152 ( 44.36% ) in 75.35 minutes. Columns per second: 4\n",
      "Processed 20804 ( 45.79% ) in 80.39 minutes. Columns per second: 4\n",
      "Processed 21351 ( 46.99% ) in 85.40 minutes. Columns per second: 4\n",
      "Processed 21761 ( 47.90% ) in 90.41 minutes. Columns per second: 4\n",
      "Processed 22081 ( 48.60% ) in 95.44 minutes. Columns per second: 4\n",
      "Processed 22571 ( 49.68% ) in 100.47 minutes. Columns per second: 4\n",
      "Processed 22881 ( 50.36% ) in 105.49 minutes. Columns per second: 4\n",
      "Processed 23250 ( 51.17% ) in 110.50 minutes. Columns per second: 4\n",
      "Processed 23552 ( 51.84% ) in 115.58 minutes. Columns per second: 3\n",
      "Processed 23831 ( 52.45% ) in 120.60 minutes. Columns per second: 3\n",
      "Processed 24143 ( 53.14% ) in 125.61 minutes. Columns per second: 3\n",
      "Processed 24488 ( 53.90% ) in 130.67 minutes. Columns per second: 3\n",
      "Processed 24661 ( 54.28% ) in 135.69 minutes. Columns per second: 3\n",
      "Processed 24839 ( 54.67% ) in 140.69 minutes. Columns per second: 3\n",
      "Processed 25107 ( 55.26% ) in 145.76 minutes. Columns per second: 3\n",
      "Processed 25330 ( 55.75% ) in 150.84 minutes. Columns per second: 3\n",
      "Processed 25493 ( 56.11% ) in 155.90 minutes. Columns per second: 3\n",
      "Processed 25665 ( 56.49% ) in 160.93 minutes. Columns per second: 3\n",
      "Processed 26005 ( 57.24% ) in 166.04 minutes. Columns per second: 3\n",
      "Processed 26166 ( 57.59% ) in 171.11 minutes. Columns per second: 3\n",
      "Processed 26309 ( 57.91% ) in 176.21 minutes. Columns per second: 2\n",
      "Processed 26493 ( 58.31% ) in 181.24 minutes. Columns per second: 2\n",
      "Processed 26702 ( 58.77% ) in 186.31 minutes. Columns per second: 2\n",
      "Processed 26838 ( 59.07% ) in 191.36 minutes. Columns per second: 2\n",
      "Processed 27000 ( 59.43% ) in 196.41 minutes. Columns per second: 2\n",
      "Processed 27143 ( 59.74% ) in 201.44 minutes. Columns per second: 2\n",
      "Processed 27286 ( 60.06% ) in 206.46 minutes. Columns per second: 2\n",
      "Processed 27432 ( 60.38% ) in 211.46 minutes. Columns per second: 2\n",
      "Processed 27809 ( 61.21% ) in 216.47 minutes. Columns per second: 2\n",
      "Processed 28069 ( 61.78% ) in 221.55 minutes. Columns per second: 2\n",
      "Processed 28262 ( 62.21% ) in 226.55 minutes. Columns per second: 2\n",
      "Processed 28462 ( 62.65% ) in 231.59 minutes. Columns per second: 2\n",
      "Processed 28732 ( 63.24% ) in 236.67 minutes. Columns per second: 2\n",
      "Processed 29010 ( 63.85% ) in 241.68 minutes. Columns per second: 2\n",
      "Processed 29293 ( 64.48% ) in 246.69 minutes. Columns per second: 2\n",
      "Processed 29533 ( 65.00% ) in 251.71 minutes. Columns per second: 2\n",
      "Processed 29820 ( 65.64% ) in 256.72 minutes. Columns per second: 2\n",
      "Processed 30061 ( 66.17% ) in 261.76 minutes. Columns per second: 2\n",
      "Processed 30349 ( 66.80% ) in 266.83 minutes. Columns per second: 2\n",
      "Processed 30701 ( 67.57% ) in 271.90 minutes. Columns per second: 2\n",
      "Processed 30978 ( 68.18% ) in 276.93 minutes. Columns per second: 2\n",
      "Processed 31218 ( 68.71% ) in 281.97 minutes. Columns per second: 2\n",
      "Processed 31464 ( 69.25% ) in 287.03 minutes. Columns per second: 2\n",
      "Processed 31792 ( 69.98% ) in 292.05 minutes. Columns per second: 2\n",
      "Processed 32095 ( 70.64% ) in 297.09 minutes. Columns per second: 2\n",
      "Processed 32522 ( 71.58% ) in 302.16 minutes. Columns per second: 2\n",
      "Processed 32855 ( 72.32% ) in 307.19 minutes. Columns per second: 2\n",
      "Processed 33154 ( 72.97% ) in 312.19 minutes. Columns per second: 2\n",
      "Processed 33439 ( 73.60% ) in 317.22 minutes. Columns per second: 2\n",
      "Processed 33884 ( 74.58% ) in 322.24 minutes. Columns per second: 2\n",
      "Processed 34088 ( 75.03% ) in 327.32 minutes. Columns per second: 2\n",
      "Processed 34542 ( 76.03% ) in 332.32 minutes. Columns per second: 2\n",
      "Processed 34900 ( 76.82% ) in 337.42 minutes. Columns per second: 2\n",
      "Processed 35139 ( 77.34% ) in 342.50 minutes. Columns per second: 2\n",
      "Processed 35396 ( 77.91% ) in 347.60 minutes. Columns per second: 2\n",
      "Processed 35562 ( 78.27% ) in 352.66 minutes. Columns per second: 2\n",
      "Processed 35650 ( 78.47% ) in 357.73 minutes. Columns per second: 2\n",
      "Processed 35893 ( 79.00% ) in 362.85 minutes. Columns per second: 2\n",
      "Processed 36232 ( 79.75% ) in 367.88 minutes. Columns per second: 2\n",
      "Processed 36436 ( 80.20% ) in 372.98 minutes. Columns per second: 2\n",
      "Processed 36654 ( 80.68% ) in 377.98 minutes. Columns per second: 2\n",
      "Processed 36755 ( 80.90% ) in 383.00 minutes. Columns per second: 2\n",
      "Processed 36908 ( 81.24% ) in 388.04 minutes. Columns per second: 2\n",
      "Processed 37083 ( 81.62% ) in 393.13 minutes. Columns per second: 2\n",
      "Processed 37190 ( 81.86% ) in 398.19 minutes. Columns per second: 2\n",
      "Processed 37275 ( 82.04% ) in 403.20 minutes. Columns per second: 2\n",
      "Processed 37407 ( 82.33% ) in 408.22 minutes. Columns per second: 2\n",
      "Processed 37727 ( 83.04% ) in 413.26 minutes. Columns per second: 2\n",
      "Processed 37859 ( 83.33% ) in 418.33 minutes. Columns per second: 2\n",
      "Processed 38171 ( 84.02% ) in 423.41 minutes. Columns per second: 2\n",
      "Processed 38309 ( 84.32% ) in 428.45 minutes. Columns per second: 1\n",
      "Processed 38577 ( 84.91% ) in 433.52 minutes. Columns per second: 1\n",
      "Processed 38864 ( 85.54% ) in 438.52 minutes. Columns per second: 1\n",
      "Processed 39212 ( 86.31% ) in 443.53 minutes. Columns per second: 1\n",
      "Processed 39433 ( 86.79% ) in 448.60 minutes. Columns per second: 1\n",
      "Processed 39625 ( 87.22% ) in 453.62 minutes. Columns per second: 1\n",
      "Processed 39838 ( 87.69% ) in 458.72 minutes. Columns per second: 1\n",
      "Processed 40033 ( 88.11% ) in 463.82 minutes. Columns per second: 1\n",
      "Processed 40248 ( 88.59% ) in 468.87 minutes. Columns per second: 1\n",
      "Processed 40499 ( 89.14% ) in 473.95 minutes. Columns per second: 1\n",
      "Processed 40717 ( 89.62% ) in 479.02 minutes. Columns per second: 1\n",
      "Processed 41068 ( 90.39% ) in 484.12 minutes. Columns per second: 1\n",
      "Processed 41307 ( 90.92% ) in 489.13 minutes. Columns per second: 1\n",
      "Processed 41501 ( 91.35% ) in 494.20 minutes. Columns per second: 1\n",
      "Processed 41733 ( 91.86% ) in 499.23 minutes. Columns per second: 1\n",
      "Processed 41984 ( 92.41% ) in 504.34 minutes. Columns per second: 1\n",
      "Processed 42426 ( 93.38% ) in 509.34 minutes. Columns per second: 1\n",
      "Processed 42602 ( 93.77% ) in 514.43 minutes. Columns per second: 1\n",
      "Processed 42705 ( 94.00% ) in 519.49 minutes. Columns per second: 1\n",
      "Processed 42851 ( 94.32% ) in 524.56 minutes. Columns per second: 1\n",
      "Processed 43151 ( 94.98% ) in 529.65 minutes. Columns per second: 1\n",
      "Processed 43439 ( 95.61% ) in 534.72 minutes. Columns per second: 1\n",
      "Processed 43595 ( 95.95% ) in 539.79 minutes. Columns per second: 1\n",
      "Processed 44042 ( 96.94% ) in 544.83 minutes. Columns per second: 1\n",
      "Processed 44374 ( 97.67% ) in 549.85 minutes. Columns per second: 1\n",
      "Processed 44464 ( 97.87% ) in 554.86 minutes. Columns per second: 1\n",
      "Processed 44749 ( 98.49% ) in 559.88 minutes. Columns per second: 1\n",
      "Processed 45107 ( 99.28% ) in 564.96 minutes. Columns per second: 1\n",
      "Processed 45305 ( 99.72% ) in 570.04 minutes. Columns per second: 1\n"
     ]
    }
   ],
   "source": [
    "SLIMRSErecommender = SLIM_RMSE(TMD_URM_train)\n",
    "SLIMRSErecommender.fit()"
   ]
  },
  {
   "cell_type": "code",
   "execution_count": 34,
   "metadata": {},
   "outputs": [
    {
     "name": "stdout",
     "output_type": "stream",
     "text": [
      "Processed 10000 ( 11.19% ) in 10.59 seconds. Users per second: 944\n",
      "Processed 20000 ( 22.37% ) in 21.10 seconds. Users per second: 948\n",
      "Processed 30000 ( 33.56% ) in 31.49 seconds. Users per second: 953\n",
      "Processed 40000 ( 44.75% ) in 41.78 seconds. Users per second: 957\n",
      "Processed 50000 ( 55.93% ) in 52.24 seconds. Users per second: 957\n",
      "Processed 60000 ( 67.12% ) in 62.63 seconds. Users per second: 958\n",
      "Processed 70000 ( 78.31% ) in 72.85 seconds. Users per second: 961\n",
      "Processed 80000 ( 89.49% ) in 83.16 seconds. Users per second: 962\n",
      "Processed 89392 ( 100.00% ) in 92.49 seconds. Users per second: 967\n"
     ]
    },
    {
     "data": {
      "text/plain": [
       "{'AUC': 0.22638051450710178,\n",
       " 'MRR': 0.26451362709235704,\n",
       " 'NDCG': 0.031131544579922704,\n",
       " 'map': 0.12724350775665486,\n",
       " 'precision': 0.16969785106218715,\n",
       " 'recall': 0.014939901420999723}"
      ]
     },
     "execution_count": 34,
     "metadata": {},
     "output_type": "execute_result"
    }
   ],
   "source": [
    "results_SLIMRSE = SLIMRSErecommender.evaluateRecommendations(TMD_URM_test, at=5, exclude_seen=True)\n",
    "results_SLIMRSE"
   ]
  },
  {
   "cell_type": "markdown",
   "metadata": {},
   "source": [
    "## Structured SLIM"
   ]
  },
  {
   "cell_type": "code",
   "execution_count": 6,
   "metadata": {},
   "outputs": [
    {
     "name": "stdout",
     "output_type": "stream",
     "text": [
      "SLIM ElasticNet with structure, beginning of the fit process.\n",
      "\n",
      "Similarity column 10000 ( 22 % ), 1726.56 column/sec, elapsed time 0.10 min\n",
      "Similarity column 20000 ( 44 % ), 1795.39 column/sec, elapsed time 0.19 min\n",
      "Similarity column 30000 ( 66 % ), 1842.97 column/sec, elapsed time 0.27 min\n",
      "Similarity column 40000 ( 88 % ), 1878.42 column/sec, elapsed time 0.35 min\n",
      "Similarity column 45433 ( 100 % ), 1890.54 column/sec, elapsed time 0.40 min\n",
      "\n",
      "Start the learning process:\n",
      "Processed 1000 (  2 % ), 3.48 column/sec, elapsed time 4.79 min\n",
      "Processed 2000 (  4 % ), 3.37 column/sec, elapsed time 9.88 min\n",
      "Processed 3000 (  7 % ), 3.72 column/sec, elapsed time 13.43 min\n",
      "Processed 4000 (  9 % ), 4.16 column/sec, elapsed time 16.02 min\n",
      "Processed 5000 ( 11 % ), 4.69 column/sec, elapsed time 17.77 min\n",
      "Processed 6000 ( 13 % ), 5.25 column/sec, elapsed time 19.06 min\n",
      "Processed 7000 ( 15 % ), 5.71 column/sec, elapsed time 20.42 min\n",
      "Processed 8000 ( 18 % ), 6.23 column/sec, elapsed time 21.40 min\n",
      "Processed 9000 ( 20 % ), 6.83 column/sec, elapsed time 21.96 min\n",
      "Processed 10000 ( 22 % ), 7.40 column/sec, elapsed time 22.51 min\n",
      "Processed 11000 ( 24 % ), 7.75 column/sec, elapsed time 23.66 min\n",
      "Processed 12000 ( 26 % ), 8.07 column/sec, elapsed time 24.79 min\n",
      "Processed 13000 ( 29 % ), 8.40 column/sec, elapsed time 25.81 min\n",
      "Processed 14000 ( 31 % ), 8.81 column/sec, elapsed time 26.49 min\n",
      "Processed 15000 ( 33 % ), 9.28 column/sec, elapsed time 26.93 min\n",
      "Processed 16000 ( 35 % ), 9.78 column/sec, elapsed time 27.27 min\n",
      "Processed 17000 ( 37 % ), 10.24 column/sec, elapsed time 27.66 min\n",
      "Processed 18000 ( 40 % ), 10.72 column/sec, elapsed time 27.98 min\n",
      "Processed 19000 ( 42 % ), 11.19 column/sec, elapsed time 28.29 min\n",
      "Processed 20000 ( 44 % ), 11.65 column/sec, elapsed time 28.61 min\n",
      "Processed 21000 ( 46 % ), 12.14 column/sec, elapsed time 28.82 min\n",
      "Processed 22000 ( 48 % ), 12.61 column/sec, elapsed time 29.09 min\n",
      "Processed 23000 ( 51 % ), 13.06 column/sec, elapsed time 29.34 min\n",
      "Processed 24000 ( 53 % ), 13.50 column/sec, elapsed time 29.62 min\n",
      "Processed 25000 ( 55 % ), 13.99 column/sec, elapsed time 29.78 min\n",
      "Processed 26000 ( 57 % ), 14.51 column/sec, elapsed time 29.87 min\n",
      "Processed 27000 ( 59 % ), 15.02 column/sec, elapsed time 29.97 min\n",
      "Processed 28000 ( 62 % ), 15.55 column/sec, elapsed time 30.02 min\n",
      "Processed 29000 ( 64 % ), 16.07 column/sec, elapsed time 30.08 min\n",
      "Processed 30000 ( 66 % ), 16.59 column/sec, elapsed time 30.14 min\n",
      "Processed 31000 ( 68 % ), 17.09 column/sec, elapsed time 30.24 min\n",
      "Processed 32000 ( 70 % ), 17.60 column/sec, elapsed time 30.30 min\n",
      "Processed 33000 ( 73 % ), 18.12 column/sec, elapsed time 30.36 min\n",
      "Processed 34000 ( 75 % ), 18.63 column/sec, elapsed time 30.41 min\n",
      "Processed 35000 ( 77 % ), 19.16 column/sec, elapsed time 30.44 min\n",
      "Processed 36000 ( 79 % ), 19.69 column/sec, elapsed time 30.48 min\n",
      "Processed 37000 ( 81 % ), 20.21 column/sec, elapsed time 30.51 min\n",
      "Processed 38000 ( 84 % ), 20.74 column/sec, elapsed time 30.54 min\n",
      "Processed 39000 ( 86 % ), 21.25 column/sec, elapsed time 30.58 min\n",
      "Processed 40000 ( 88 % ), 21.76 column/sec, elapsed time 30.64 min\n",
      "Processed 41000 ( 90 % ), 22.27 column/sec, elapsed time 30.68 min\n",
      "Processed 42000 ( 92 % ), 22.79 column/sec, elapsed time 30.72 min\n",
      "Processed 43000 ( 95 % ), 23.31 column/sec, elapsed time 30.75 min\n",
      "Processed 44000 ( 97 % ), 23.84 column/sec, elapsed time 30.77 min\n",
      "Processed 45000 ( 99 % ), 24.36 column/sec, elapsed time 30.78 min\n",
      "Processed 45433 ( 100 % ), 24.59 column/sec, elapsed time 30.79 min\n"
     ]
    }
   ],
   "source": [
    "strucSLIMrecommender = SLIM_Elastic_Net_Structured(TMD_ICM, TMD_URM_train)\n",
    "strucSLIMrecommender.fit()"
   ]
  },
  {
   "cell_type": "code",
   "execution_count": 7,
   "metadata": {
    "scrolled": true
   },
   "outputs": [
    {
     "name": "stdout",
     "output_type": "stream",
     "text": [
      "Processed 10000 ( 11.19% ) in 11.60 seconds. Users per second: 862\n",
      "Processed 20000 ( 22.37% ) in 21.87 seconds. Users per second: 914\n",
      "Processed 30000 ( 33.56% ) in 32.44 seconds. Users per second: 925\n",
      "Processed 40000 ( 44.75% ) in 42.88 seconds. Users per second: 933\n",
      "Processed 50000 ( 55.94% ) in 53.63 seconds. Users per second: 932\n",
      "Processed 60000 ( 67.12% ) in 63.96 seconds. Users per second: 938\n",
      "Processed 70000 ( 78.31% ) in 75.20 seconds. Users per second: 931\n",
      "Processed 80000 ( 89.50% ) in 86.03 seconds. Users per second: 930\n",
      "Processed 89390 ( 100.00% ) in 95.28 seconds. Users per second: 938\n"
     ]
    },
    {
     "data": {
      "text/plain": [
       "{'AUC': 0.0712925984345927,\n",
       " 'MRR': 0.07144455258359018,\n",
       " 'NDCG': 0.005127760900578022,\n",
       " 'map': 0.01937692584015973,\n",
       " 'precision': 0.03291382801400354,\n",
       " 'recall': 0.00237117981474157}"
      ]
     },
     "execution_count": 7,
     "metadata": {},
     "output_type": "execute_result"
    }
   ],
   "source": [
    "results_strucSLIM = strucSLIMrecommender.evaluateRecommendations(TMD_URM_test, at=5, exclude_seen=True)\n",
    "results_strucSLIM"
   ]
  },
  {
   "cell_type": "markdown",
   "metadata": {},
   "source": [
    "### TheMoviesDataset 10% of features"
   ]
  },
  {
   "cell_type": "markdown",
   "metadata": {},
   "source": [
    "### KNN content base filtering"
   ]
  },
  {
   "cell_type": "code",
   "execution_count": 8,
   "metadata": {
    "scrolled": false
   },
   "outputs": [
    {
     "name": "stdout",
     "output_type": "stream",
     "text": [
      "Similarity column 10000 ( 22 % ), 1609.49 column/sec, elapsed time 0.10 min\n",
      "Similarity column 20000 ( 44 % ), 1648.59 column/sec, elapsed time 0.20 min\n",
      "Similarity column 30000 ( 66 % ), 1659.78 column/sec, elapsed time 0.30 min\n",
      "Similarity column 40000 ( 88 % ), 1700.74 column/sec, elapsed time 0.39 min\n",
      "Similarity column 45433 ( 100 % ), 1727.78 column/sec, elapsed time 0.44 min\n"
     ]
    }
   ],
   "source": [
    "KNNCBrecommender = ItemKNNCBFRecommender(TMD_ICM10, TMD_URM_train)\n",
    "KNNCBrecommender.fit()"
   ]
  },
  {
   "cell_type": "code",
   "execution_count": 9,
   "metadata": {},
   "outputs": [
    {
     "name": "stdout",
     "output_type": "stream",
     "text": [
      "Processed 10000 ( 11.19% ) in 356.55 seconds. Users per second: 28\n",
      "Processed 20000 ( 22.37% ) in 704.32 seconds. Users per second: 28\n",
      "Processed 30000 ( 33.56% ) in 1062.96 seconds. Users per second: 28\n",
      "Processed 40000 ( 44.75% ) in 1442.66 seconds. Users per second: 28\n",
      "Processed 50000 ( 55.94% ) in 1796.80 seconds. Users per second: 28\n",
      "Processed 60000 ( 67.12% ) in 2149.17 seconds. Users per second: 28\n",
      "Processed 70000 ( 78.31% ) in 2559.40 seconds. Users per second: 27\n",
      "Processed 80000 ( 89.50% ) in 2943.71 seconds. Users per second: 27\n",
      "Processed 89389 ( 100.00% ) in 3274.11 seconds. Users per second: 27\n"
     ]
    },
    {
     "data": {
      "text/plain": [
       "{'AUC': 0.08979285527836814,\n",
       " 'MRR': 0.0954351717194279,\n",
       " 'NDCG': 0.006027635885299432,\n",
       " 'map': 0.031691075934418146,\n",
       " 'precision': 0.04852668083677559,\n",
       " 'recall': 0.0029754989239676242}"
      ]
     },
     "execution_count": 9,
     "metadata": {},
     "output_type": "execute_result"
    }
   ],
   "source": [
    "results_KNNCBFR = KNNCBrecommender.evaluateRecommendations(TMD_URM_test, at=5, exclude_seen=True)\n",
    "results_KNNCBFR"
   ]
  },
  {
   "cell_type": "markdown",
   "metadata": {},
   "source": [
    "### Structured SLIM"
   ]
  },
  {
   "cell_type": "code",
   "execution_count": 10,
   "metadata": {},
   "outputs": [
    {
     "name": "stdout",
     "output_type": "stream",
     "text": [
      "SLIM ElasticNet with structure, beginning of the fit process.\n",
      "\n",
      "Similarity column 10000 ( 22 % ), 1750.18 column/sec, elapsed time 0.10 min\n",
      "Similarity column 20000 ( 44 % ), 1796.06 column/sec, elapsed time 0.19 min\n",
      "Similarity column 30000 ( 66 % ), 1834.28 column/sec, elapsed time 0.27 min\n",
      "Similarity column 40000 ( 88 % ), 1865.76 column/sec, elapsed time 0.36 min\n",
      "Similarity column 45433 ( 100 % ), 1806.63 column/sec, elapsed time 0.42 min\n",
      "\n",
      "Start the learning process:\n",
      "Processed 1000 (  2 % ), 3.42 column/sec, elapsed time 4.88 min\n",
      "Processed 2000 (  4 % ), 3.35 column/sec, elapsed time 9.94 min\n",
      "Processed 3000 (  7 % ), 3.68 column/sec, elapsed time 13.58 min\n",
      "Processed 4000 (  9 % ), 4.10 column/sec, elapsed time 16.25 min\n",
      "Processed 5000 ( 11 % ), 4.61 column/sec, elapsed time 18.06 min\n",
      "Processed 6000 ( 13 % ), 5.16 column/sec, elapsed time 19.40 min\n",
      "Processed 7000 ( 15 % ), 5.61 column/sec, elapsed time 20.78 min\n",
      "Processed 8000 ( 18 % ), 6.12 column/sec, elapsed time 21.79 min\n",
      "Processed 9000 ( 20 % ), 6.71 column/sec, elapsed time 22.37 min\n",
      "Processed 10000 ( 22 % ), 7.29 column/sec, elapsed time 22.85 min\n",
      "Processed 11000 ( 24 % ), 7.71 column/sec, elapsed time 23.78 min\n",
      "Processed 12000 ( 26 % ), 8.07 column/sec, elapsed time 24.77 min\n",
      "Processed 13000 ( 29 % ), 8.45 column/sec, elapsed time 25.64 min\n",
      "Processed 14000 ( 31 % ), 8.89 column/sec, elapsed time 26.25 min\n",
      "Processed 15000 ( 33 % ), 9.38 column/sec, elapsed time 26.64 min\n",
      "Processed 16000 ( 35 % ), 9.89 column/sec, elapsed time 26.96 min\n",
      "Processed 17000 ( 37 % ), 10.39 column/sec, elapsed time 27.26 min\n",
      "Processed 18000 ( 40 % ), 10.89 column/sec, elapsed time 27.56 min\n",
      "Processed 19000 ( 42 % ), 11.38 column/sec, elapsed time 27.82 min\n",
      "Processed 20000 ( 44 % ), 11.87 column/sec, elapsed time 28.08 min\n",
      "Processed 21000 ( 46 % ), 12.39 column/sec, elapsed time 28.26 min\n",
      "Processed 22000 ( 48 % ), 12.88 column/sec, elapsed time 28.48 min\n",
      "Processed 23000 ( 51 % ), 13.38 column/sec, elapsed time 28.65 min\n",
      "Processed 24000 ( 53 % ), 13.86 column/sec, elapsed time 28.85 min\n",
      "Processed 25000 ( 55 % ), 14.38 column/sec, elapsed time 28.98 min\n",
      "Processed 26000 ( 57 % ), 14.91 column/sec, elapsed time 29.07 min\n",
      "Processed 27000 ( 59 % ), 15.44 column/sec, elapsed time 29.15 min\n",
      "Processed 28000 ( 62 % ), 15.99 column/sec, elapsed time 29.19 min\n",
      "Processed 29000 ( 64 % ), 16.53 column/sec, elapsed time 29.24 min\n",
      "Processed 30000 ( 66 % ), 17.07 column/sec, elapsed time 29.29 min\n",
      "Processed 31000 ( 68 % ), 17.59 column/sec, elapsed time 29.38 min\n",
      "Processed 32000 ( 70 % ), 18.13 column/sec, elapsed time 29.42 min\n",
      "Processed 33000 ( 73 % ), 18.66 column/sec, elapsed time 29.48 min\n",
      "Processed 34000 ( 75 % ), 19.19 column/sec, elapsed time 29.52 min\n",
      "Processed 35000 ( 77 % ), 19.74 column/sec, elapsed time 29.55 min\n",
      "Processed 36000 ( 79 % ), 20.28 column/sec, elapsed time 29.58 min\n",
      "Processed 37000 ( 81 % ), 20.82 column/sec, elapsed time 29.62 min\n",
      "Processed 38000 ( 84 % ), 21.37 column/sec, elapsed time 29.64 min\n",
      "Processed 39000 ( 86 % ), 21.90 column/sec, elapsed time 29.68 min\n",
      "Processed 40000 ( 88 % ), 22.42 column/sec, elapsed time 29.73 min\n",
      "Processed 41000 ( 90 % ), 22.96 column/sec, elapsed time 29.76 min\n",
      "Processed 42000 ( 92 % ), 23.49 column/sec, elapsed time 29.80 min\n",
      "Processed 43000 ( 95 % ), 24.03 column/sec, elapsed time 29.82 min\n",
      "Processed 44000 ( 97 % ), 24.57 column/sec, elapsed time 29.84 min\n",
      "Processed 45000 ( 99 % ), 25.12 column/sec, elapsed time 29.86 min\n",
      "Processed 45433 ( 100 % ), 25.36 column/sec, elapsed time 29.86 min\n"
     ]
    }
   ],
   "source": [
    "strucSLIMrecommender = SLIM_Elastic_Net_Structured(TMD_ICM50, TMD_URM_train)\n",
    "strucSLIMrecommender.fit()"
   ]
  },
  {
   "cell_type": "code",
   "execution_count": 11,
   "metadata": {},
   "outputs": [
    {
     "name": "stdout",
     "output_type": "stream",
     "text": [
      "Processed 10000 ( 11.19% ) in 9.06 seconds. Users per second: 1103\n",
      "Processed 20000 ( 22.37% ) in 18.16 seconds. Users per second: 1102\n",
      "Processed 30000 ( 33.56% ) in 27.22 seconds. Users per second: 1102\n",
      "Processed 40000 ( 44.75% ) in 36.29 seconds. Users per second: 1102\n",
      "Processed 50000 ( 55.94% ) in 45.39 seconds. Users per second: 1102\n",
      "Processed 60000 ( 67.12% ) in 54.48 seconds. Users per second: 1101\n",
      "Processed 70000 ( 78.31% ) in 63.63 seconds. Users per second: 1100\n",
      "Processed 80000 ( 89.50% ) in 72.72 seconds. Users per second: 1100\n",
      "Processed 89389 ( 100.00% ) in 81.27 seconds. Users per second: 1100\n"
     ]
    },
    {
     "data": {
      "text/plain": [
       "{'AUC': 0.07471752992504764,\n",
       " 'MRR': 0.0748273483238209,\n",
       " 'NDCG': 0.00525156182861393,\n",
       " 'map': 0.020370107270263175,\n",
       " 'precision': 0.03421635529701036,\n",
       " 'recall': 0.0023486699132642124}"
      ]
     },
     "execution_count": 11,
     "metadata": {},
     "output_type": "execute_result"
    }
   ],
   "source": [
    "results_strucSLIM = strucSLIMrecommender.evaluateRecommendations(TMD_URM_test, at=5, exclude_seen=True)\n",
    "results_strucSLIM"
   ]
  },
  {
   "cell_type": "markdown",
   "metadata": {},
   "source": [
    "### TheMoviesDataset 50% of features"
   ]
  },
  {
   "cell_type": "markdown",
   "metadata": {},
   "source": [
    "### KNN content base filtering"
   ]
  },
  {
   "cell_type": "code",
   "execution_count": 12,
   "metadata": {},
   "outputs": [
    {
     "name": "stdout",
     "output_type": "stream",
     "text": [
      "Similarity column 10000 ( 22 % ), 1300.55 column/sec, elapsed time 0.13 min\n",
      "Similarity column 20000 ( 44 % ), 1323.75 column/sec, elapsed time 0.25 min\n",
      "Similarity column 30000 ( 66 % ), 1482.12 column/sec, elapsed time 0.34 min\n",
      "Similarity column 40000 ( 88 % ), 1583.66 column/sec, elapsed time 0.42 min\n",
      "Similarity column 45433 ( 100 % ), 1622.28 column/sec, elapsed time 0.47 min\n"
     ]
    }
   ],
   "source": [
    "KNNCBrecommender = ItemKNNCBFRecommender(TMD_ICM50, TMD_URM_train)\n",
    "KNNCBrecommender.fit()"
   ]
  },
  {
   "cell_type": "code",
   "execution_count": 13,
   "metadata": {},
   "outputs": [
    {
     "name": "stdout",
     "output_type": "stream",
     "text": [
      "Processed 10000 ( 11.19% ) in 353.83 seconds. Users per second: 28\n",
      "Processed 20000 ( 22.37% ) in 706.81 seconds. Users per second: 28\n",
      "Processed 30000 ( 33.56% ) in 1060.15 seconds. Users per second: 28\n",
      "Processed 40000 ( 44.75% ) in 1415.48 seconds. Users per second: 28\n",
      "Processed 50000 ( 55.94% ) in 1769.44 seconds. Users per second: 28\n",
      "Processed 60000 ( 67.12% ) in 2123.73 seconds. Users per second: 28\n",
      "Processed 70000 ( 78.31% ) in 2483.21 seconds. Users per second: 28\n",
      "Processed 80000 ( 89.50% ) in 2838.10 seconds. Users per second: 28\n",
      "Processed 89389 ( 100.00% ) in 3168.37 seconds. Users per second: 28\n"
     ]
    },
    {
     "data": {
      "text/plain": [
       "{'AUC': 0.10088097102584181,\n",
       " 'MRR': 0.10794440093970242,\n",
       " 'NDCG': 0.007064354060380539,\n",
       " 'map': 0.03703610893587213,\n",
       " 'precision': 0.055847410224847426,\n",
       " 'recall': 0.0034313059550974195}"
      ]
     },
     "execution_count": 13,
     "metadata": {},
     "output_type": "execute_result"
    }
   ],
   "source": [
    "results_KNNCBFR = KNNCBrecommender.evaluateRecommendations(TMD_URM_test, at=5, exclude_seen=True)\n",
    "results_KNNCBFR"
   ]
  },
  {
   "cell_type": "markdown",
   "metadata": {},
   "source": [
    "### Structured SLIM"
   ]
  },
  {
   "cell_type": "code",
   "execution_count": 11,
   "metadata": {},
   "outputs": [
    {
     "name": "stdout",
     "output_type": "stream",
     "text": [
      "SLIM ElasticNet with structure, beginning of the fit process.\n",
      "\n",
      "Similarity column 10000 ( 22 % ), 1568.11 column/sec, elapsed time 0.11 min\n",
      "Similarity column 20000 ( 44 % ), 1660.62 column/sec, elapsed time 0.20 min\n",
      "Similarity column 30000 ( 66 % ), 1700.51 column/sec, elapsed time 0.29 min\n",
      "Similarity column 40000 ( 88 % ), 1733.08 column/sec, elapsed time 0.38 min\n",
      "Similarity column 45433 ( 100 % ), 1751.19 column/sec, elapsed time 0.43 min\n",
      "\n",
      "Start the learning process:\n",
      "Processed 1000 (  2 % ), 3.39 column/sec, elapsed time 4.92 min\n",
      "Processed 2000 (  4 % ), 3.28 column/sec, elapsed time 10.16 min\n",
      "Processed 3000 (  7 % ), 3.60 column/sec, elapsed time 13.87 min\n",
      "Processed 4000 (  9 % ), 4.02 column/sec, elapsed time 16.59 min\n",
      "Processed 5000 ( 11 % ), 4.51 column/sec, elapsed time 18.46 min\n",
      "Processed 6000 ( 13 % ), 5.04 column/sec, elapsed time 19.84 min\n",
      "Processed 7000 ( 15 % ), 5.48 column/sec, elapsed time 21.29 min\n",
      "Processed 8000 ( 18 % ), 5.97 column/sec, elapsed time 22.33 min\n",
      "Processed 9000 ( 20 % ), 6.54 column/sec, elapsed time 22.95 min\n",
      "Processed 10000 ( 22 % ), 7.10 column/sec, elapsed time 23.48 min\n",
      "Processed 11000 ( 24 % ), 7.49 column/sec, elapsed time 24.47 min\n",
      "Processed 12000 ( 26 % ), 7.85 column/sec, elapsed time 25.47 min\n",
      "Processed 13000 ( 29 % ), 8.22 column/sec, elapsed time 26.34 min\n",
      "Processed 14000 ( 31 % ), 8.65 column/sec, elapsed time 26.97 min\n",
      "Processed 15000 ( 33 % ), 9.12 column/sec, elapsed time 27.41 min\n",
      "Processed 16000 ( 35 % ), 9.60 column/sec, elapsed time 27.77 min\n",
      "Processed 17000 ( 37 % ), 10.08 column/sec, elapsed time 28.12 min\n",
      "Processed 18000 ( 40 % ), 10.55 column/sec, elapsed time 28.45 min\n",
      "Processed 19000 ( 42 % ), 11.01 column/sec, elapsed time 28.75 min\n",
      "Processed 20000 ( 44 % ), 11.48 column/sec, elapsed time 29.05 min\n",
      "Processed 21000 ( 46 % ), 11.96 column/sec, elapsed time 29.25 min\n",
      "Processed 22000 ( 48 % ), 12.42 column/sec, elapsed time 29.51 min\n",
      "Processed 23000 ( 51 % ), 12.90 column/sec, elapsed time 29.71 min\n",
      "Processed 24000 ( 53 % ), 13.36 column/sec, elapsed time 29.95 min\n",
      "Processed 25000 ( 55 % ), 13.84 column/sec, elapsed time 30.11 min\n",
      "Processed 26000 ( 57 % ), 14.34 column/sec, elapsed time 30.21 min\n",
      "Processed 27000 ( 59 % ), 14.85 column/sec, elapsed time 30.31 min\n",
      "Processed 28000 ( 62 % ), 15.37 column/sec, elapsed time 30.37 min\n",
      "Processed 29000 ( 64 % ), 15.88 column/sec, elapsed time 30.45 min\n",
      "Processed 30000 ( 66 % ), 16.39 column/sec, elapsed time 30.51 min\n",
      "Processed 31000 ( 68 % ), 16.87 column/sec, elapsed time 30.62 min\n",
      "Processed 32000 ( 70 % ), 17.38 column/sec, elapsed time 30.68 min\n",
      "Processed 33000 ( 73 % ), 17.89 column/sec, elapsed time 30.75 min\n",
      "Processed 34000 ( 75 % ), 18.39 column/sec, elapsed time 30.82 min\n",
      "Processed 35000 ( 77 % ), 18.90 column/sec, elapsed time 30.86 min\n",
      "Processed 36000 ( 79 % ), 19.41 column/sec, elapsed time 30.91 min\n",
      "Processed 37000 ( 81 % ), 19.92 column/sec, elapsed time 30.96 min\n",
      "Processed 38000 ( 84 % ), 20.43 column/sec, elapsed time 31.00 min\n",
      "Processed 39000 ( 86 % ), 20.93 column/sec, elapsed time 31.06 min\n",
      "Processed 40000 ( 88 % ), 21.42 column/sec, elapsed time 31.13 min\n",
      "Processed 41000 ( 90 % ), 21.92 column/sec, elapsed time 31.18 min\n",
      "Processed 42000 ( 92 % ), 22.41 column/sec, elapsed time 31.23 min\n",
      "Processed 43000 ( 95 % ), 22.92 column/sec, elapsed time 31.27 min\n",
      "Processed 44000 ( 97 % ), 23.43 column/sec, elapsed time 31.30 min\n",
      "Processed 45000 ( 99 % ), 23.94 column/sec, elapsed time 31.33 min\n",
      "Processed 45433 ( 100 % ), 24.16 column/sec, elapsed time 31.34 min\n"
     ]
    }
   ],
   "source": [
    "strucSLIMrecommender = SLIM_Elastic_Net_Structured(TMD_ICM50, TMD_URM_train)\n",
    "strucSLIMrecommender.fit()"
   ]
  },
  {
   "cell_type": "code",
   "execution_count": 12,
   "metadata": {},
   "outputs": [
    {
     "name": "stdout",
     "output_type": "stream",
     "text": [
      "Processed 10000 ( 11.19% ) in 9.34 seconds. Users per second: 1071\n",
      "Processed 20000 ( 22.37% ) in 18.63 seconds. Users per second: 1074\n",
      "Processed 30000 ( 33.56% ) in 27.94 seconds. Users per second: 1074\n",
      "Processed 40000 ( 44.75% ) in 37.24 seconds. Users per second: 1074\n",
      "Processed 50000 ( 55.94% ) in 46.58 seconds. Users per second: 1073\n",
      "Processed 60000 ( 67.12% ) in 55.90 seconds. Users per second: 1073\n",
      "Processed 70000 ( 78.31% ) in 65.24 seconds. Users per second: 1073\n",
      "Processed 80000 ( 89.50% ) in 74.54 seconds. Users per second: 1073\n",
      "Processed 89390 ( 100.00% ) in 83.27 seconds. Users per second: 1073\n"
     ]
    },
    {
     "data": {
      "text/plain": [
       "{'AUC': 0.07454609524448776,\n",
       " 'MRR': 0.07474540688286659,\n",
       " 'NDCG': 0.0051414034822329195,\n",
       " 'map': 0.020058438644704992,\n",
       " 'precision': 0.03371927822711188,\n",
       " 'recall': 0.002295724200388743}"
      ]
     },
     "execution_count": 12,
     "metadata": {},
     "output_type": "execute_result"
    }
   ],
   "source": [
    "results_strucSLIM = strucSLIMrecommender.evaluateRecommendations(TMD_URM_test, at=5, exclude_seen=True)\n",
    "results_strucSLIM"
   ]
  },
  {
   "cell_type": "markdown",
   "metadata": {},
   "source": [
    "### Movielens26 GENRES"
   ]
  },
  {
   "cell_type": "markdown",
   "metadata": {},
   "source": [
    "### KNN collaborative filtering"
   ]
  },
  {
   "cell_type": "code",
   "execution_count": 7,
   "metadata": {},
   "outputs": [
    {
     "name": "stdout",
     "output_type": "stream",
     "text": [
      "Similarity column 10000 ( 22 % ), 254.26 column/sec, elapsed time 0.66 min\n",
      "Similarity column 20000 ( 44 % ), 376.53 column/sec, elapsed time 0.89 min\n",
      "Similarity column 30000 ( 65 % ), 477.80 column/sec, elapsed time 1.05 min\n",
      "Similarity column 40000 ( 87 % ), 579.29 column/sec, elapsed time 1.15 min\n",
      "Similarity column 45843 ( 100 % ), 628.76 column/sec, elapsed time 1.22 min\n",
      "Processed 10000 ( 11.19% ) in 316.24 seconds. Users per second: 32\n",
      "Processed 20000 ( 22.37% ) in 621.54 seconds. Users per second: 32\n",
      "Processed 30000 ( 33.56% ) in 896.19 seconds. Users per second: 33\n",
      "Processed 40000 ( 44.75% ) in 1170.96 seconds. Users per second: 34\n",
      "Processed 50000 ( 55.93% ) in 1442.64 seconds. Users per second: 35\n",
      "Processed 60000 ( 67.12% ) in 1717.20 seconds. Users per second: 35\n",
      "Processed 70000 ( 78.30% ) in 1985.89 seconds. Users per second: 35\n",
      "Processed 80000 ( 89.49% ) in 2253.71 seconds. Users per second: 35\n",
      "Processed 89395 ( 100.00% ) in 2506.51 seconds. Users per second: 36\n"
     ]
    },
    {
     "data": {
      "text/plain": [
       "{'AUC': 0.1653122063627012,\n",
       " 'MRR': 0.19139018151447576,\n",
       " 'NDCG': 0.018977900038729845,\n",
       " 'map': 0.09108725657623755,\n",
       " 'precision': 0.12431652422927689,\n",
       " 'recall': 0.00957347798587911}"
      ]
     },
     "execution_count": 7,
     "metadata": {},
     "output_type": "execute_result"
    }
   ],
   "source": [
    "KNNrecommender = ItemKNNCFRecommender(M26_URM_train)\n",
    "KNNrecommender.fit()\n",
    "\n",
    "results_KNNCFR = KNNrecommender.evaluateRecommendations(M26_URM_test, at=5, exclude_seen=True)\n",
    "results_KNNCFR"
   ]
  },
  {
   "cell_type": "markdown",
   "metadata": {},
   "source": [
    "### KNN content base filtering"
   ]
  },
  {
   "cell_type": "code",
   "execution_count": 8,
   "metadata": {},
   "outputs": [
    {
     "name": "stdout",
     "output_type": "stream",
     "text": [
      "Similarity column 10000 ( 22 % ), 1513.69 column/sec, elapsed time 0.11 min\n",
      "Similarity column 20000 ( 44 % ), 1531.81 column/sec, elapsed time 0.22 min\n",
      "Similarity column 30000 ( 65 % ), 1571.23 column/sec, elapsed time 0.32 min\n",
      "Similarity column 40000 ( 87 % ), 1612.17 column/sec, elapsed time 0.41 min\n",
      "Similarity column 45843 ( 100 % ), 1624.36 column/sec, elapsed time 0.47 min\n",
      "Processed 10000 ( 11.19% ) in 263.77 seconds. Users per second: 38\n",
      "Processed 20000 ( 22.37% ) in 528.09 seconds. Users per second: 38\n",
      "Processed 30000 ( 33.56% ) in 791.15 seconds. Users per second: 38\n",
      "Processed 40000 ( 44.75% ) in 1054.84 seconds. Users per second: 38\n",
      "Processed 50000 ( 55.93% ) in 1318.51 seconds. Users per second: 38\n",
      "Processed 60000 ( 67.12% ) in 1581.81 seconds. Users per second: 38\n",
      "Processed 70000 ( 78.30% ) in 1845.02 seconds. Users per second: 38\n",
      "Processed 80000 ( 89.49% ) in 2108.05 seconds. Users per second: 38\n",
      "Processed 89395 ( 100.00% ) in 2355.10 seconds. Users per second: 38\n"
     ]
    },
    {
     "data": {
      "text/plain": [
       "{'AUC': 0.024136985994899086,\n",
       " 'MRR': 0.023511678374871336,\n",
       " 'NDCG': 0.0011077027865926744,\n",
       " 'map': 0.005952615329545095,\n",
       " 'precision': 0.011776813280237004,\n",
       " 'recall': 0.0006147582326954524}"
      ]
     },
     "execution_count": 8,
     "metadata": {},
     "output_type": "execute_result"
    }
   ],
   "source": [
    "KNNCBrecommender = ItemKNNCBFRecommender(M26_ICM_GEN, M26_URM_train)\n",
    "KNNCBrecommender.fit()\n",
    "\n",
    "results_KNNCBFR = KNNCBrecommender.evaluateRecommendations(M26_URM_test, at=5, exclude_seen=True)\n",
    "results_KNNCBFR"
   ]
  },
  {
   "cell_type": "markdown",
   "metadata": {},
   "source": [
    "### SLIM ElasticNet"
   ]
  },
  {
   "cell_type": "code",
   "execution_count": 9,
   "metadata": {},
   "outputs": [
    {
     "name": "stdout",
     "output_type": "stream",
     "text": [
      "Processed 1381 ( 3.01% ) in 5.00 minutes. Columns per second: 5\n",
      "Processed 3218 ( 7.02% ) in 10.00 minutes. Columns per second: 5\n",
      "Processed 5352 ( 11.67% ) in 15.00 minutes. Columns per second: 6\n",
      "Processed 7408 ( 16.16% ) in 20.00 minutes. Columns per second: 6\n",
      "Processed 9244 ( 20.16% ) in 25.01 minutes. Columns per second: 6\n",
      "Processed 11153 ( 24.33% ) in 30.01 minutes. Columns per second: 6\n",
      "Processed 13173 ( 28.74% ) in 35.01 minutes. Columns per second: 6\n",
      "Processed 14626 ( 31.90% ) in 40.04 minutes. Columns per second: 6\n",
      "Processed 15633 ( 34.10% ) in 45.11 minutes. Columns per second: 6\n",
      "Processed 16722 ( 36.48% ) in 50.13 minutes. Columns per second: 6\n",
      "Processed 17793 ( 38.81% ) in 55.13 minutes. Columns per second: 5\n",
      "Processed 18842 ( 41.10% ) in 60.25 minutes. Columns per second: 5\n",
      "Processed 19529 ( 42.60% ) in 65.28 minutes. Columns per second: 5\n",
      "Processed 20043 ( 43.72% ) in 70.33 minutes. Columns per second: 5\n",
      "Processed 20551 ( 44.83% ) in 75.37 minutes. Columns per second: 5\n",
      "Processed 21214 ( 46.28% ) in 80.47 minutes. Columns per second: 4\n",
      "Processed 21927 ( 47.83% ) in 85.57 minutes. Columns per second: 4\n",
      "Processed 22464 ( 49.00% ) in 90.57 minutes. Columns per second: 4\n",
      "Processed 22995 ( 50.16% ) in 95.66 minutes. Columns per second: 4\n",
      "Processed 23421 ( 51.09% ) in 100.74 minutes. Columns per second: 4\n",
      "Processed 23793 ( 51.90% ) in 105.79 minutes. Columns per second: 4\n",
      "Processed 24267 ( 52.94% ) in 110.82 minutes. Columns per second: 4\n",
      "Processed 24620 ( 53.71% ) in 115.91 minutes. Columns per second: 4\n",
      "Processed 24990 ( 54.51% ) in 121.00 minutes. Columns per second: 3\n",
      "Processed 25218 ( 55.01% ) in 126.00 minutes. Columns per second: 3\n",
      "Processed 25483 ( 55.59% ) in 131.08 minutes. Columns per second: 3\n",
      "Processed 25674 ( 56.00% ) in 136.08 minutes. Columns per second: 3\n",
      "Processed 25907 ( 56.51% ) in 141.13 minutes. Columns per second: 3\n",
      "Processed 26142 ( 57.03% ) in 146.18 minutes. Columns per second: 3\n",
      "Processed 26459 ( 57.72% ) in 151.23 minutes. Columns per second: 3\n",
      "Processed 26597 ( 58.02% ) in 156.27 minutes. Columns per second: 3\n",
      "Processed 26841 ( 58.55% ) in 161.36 minutes. Columns per second: 3\n",
      "Processed 27169 ( 59.27% ) in 166.40 minutes. Columns per second: 3\n",
      "Processed 27404 ( 59.78% ) in 171.43 minutes. Columns per second: 3\n",
      "Processed 27617 ( 60.24% ) in 176.49 minutes. Columns per second: 3\n",
      "Processed 28057 ( 61.20% ) in 181.53 minutes. Columns per second: 3\n",
      "Processed 28314 ( 61.76% ) in 186.59 minutes. Columns per second: 3\n",
      "Processed 28508 ( 62.19% ) in 191.62 minutes. Columns per second: 2\n",
      "Processed 28802 ( 62.83% ) in 196.72 minutes. Columns per second: 2\n",
      "Processed 29066 ( 63.40% ) in 201.83 minutes. Columns per second: 2\n",
      "Processed 29421 ( 64.18% ) in 206.84 minutes. Columns per second: 2\n",
      "Processed 29736 ( 64.86% ) in 211.86 minutes. Columns per second: 2\n",
      "Processed 30048 ( 65.55% ) in 216.86 minutes. Columns per second: 2\n",
      "Processed 30353 ( 66.21% ) in 221.98 minutes. Columns per second: 2\n",
      "Processed 30563 ( 66.67% ) in 227.00 minutes. Columns per second: 2\n",
      "Processed 30906 ( 67.42% ) in 232.12 minutes. Columns per second: 2\n",
      "Processed 31371 ( 68.43% ) in 237.19 minutes. Columns per second: 2\n",
      "Processed 31586 ( 68.90% ) in 242.27 minutes. Columns per second: 2\n",
      "Processed 31935 ( 69.66% ) in 247.29 minutes. Columns per second: 2\n",
      "Processed 32254 ( 70.36% ) in 252.39 minutes. Columns per second: 2\n",
      "Processed 32549 ( 71.00% ) in 257.40 minutes. Columns per second: 2\n",
      "Processed 32759 ( 71.46% ) in 262.48 minutes. Columns per second: 2\n",
      "Processed 33076 ( 72.15% ) in 267.54 minutes. Columns per second: 2\n",
      "Processed 33513 ( 73.10% ) in 272.54 minutes. Columns per second: 2\n",
      "Processed 33773 ( 73.67% ) in 277.65 minutes. Columns per second: 2\n",
      "Processed 34206 ( 74.62% ) in 282.72 minutes. Columns per second: 2\n",
      "Processed 34452 ( 75.15% ) in 287.80 minutes. Columns per second: 2\n",
      "Processed 34608 ( 75.49% ) in 292.87 minutes. Columns per second: 2\n",
      "Processed 34686 ( 75.66% ) in 297.99 minutes. Columns per second: 2\n",
      "Processed 34950 ( 76.24% ) in 303.06 minutes. Columns per second: 2\n",
      "Processed 35137 ( 76.65% ) in 308.14 minutes. Columns per second: 2\n",
      "Processed 35418 ( 77.26% ) in 313.24 minutes. Columns per second: 2\n",
      "Processed 35736 ( 77.95% ) in 318.33 minutes. Columns per second: 2\n",
      "Processed 35947 ( 78.41% ) in 323.34 minutes. Columns per second: 2\n",
      "Processed 36169 ( 78.90% ) in 328.43 minutes. Columns per second: 2\n",
      "Processed 36484 ( 79.58% ) in 333.49 minutes. Columns per second: 2\n",
      "Processed 36739 ( 80.14% ) in 338.50 minutes. Columns per second: 2\n",
      "Processed 36891 ( 80.47% ) in 343.58 minutes. Columns per second: 2\n",
      "Processed 37213 ( 81.17% ) in 348.66 minutes. Columns per second: 2\n",
      "Processed 37713 ( 82.27% ) in 353.71 minutes. Columns per second: 2\n",
      "Processed 38047 ( 82.99% ) in 358.81 minutes. Columns per second: 2\n",
      "Processed 38222 ( 83.38% ) in 363.92 minutes. Columns per second: 2\n",
      "Processed 38411 ( 83.79% ) in 368.95 minutes. Columns per second: 2\n",
      "Processed 38744 ( 84.51% ) in 374.03 minutes. Columns per second: 2\n",
      "Processed 39010 ( 85.09% ) in 379.08 minutes. Columns per second: 2\n",
      "Processed 39371 ( 85.88% ) in 384.17 minutes. Columns per second: 2\n",
      "Processed 39661 ( 86.51% ) in 389.30 minutes. Columns per second: 2\n",
      "Processed 39936 ( 87.11% ) in 394.39 minutes. Columns per second: 2\n",
      "Processed 40180 ( 87.65% ) in 399.44 minutes. Columns per second: 2\n",
      "Processed 40263 ( 87.83% ) in 404.54 minutes. Columns per second: 2\n",
      "Processed 40575 ( 88.51% ) in 409.64 minutes. Columns per second: 2\n",
      "Processed 40768 ( 88.93% ) in 414.74 minutes. Columns per second: 2\n",
      "Processed 41067 ( 89.58% ) in 419.76 minutes. Columns per second: 2\n",
      "Processed 41216 ( 89.91% ) in 424.80 minutes. Columns per second: 2\n",
      "Processed 41414 ( 90.34% ) in 429.80 minutes. Columns per second: 2\n",
      "Processed 41592 ( 90.73% ) in 434.85 minutes. Columns per second: 2\n",
      "Processed 41796 ( 91.17% ) in 439.87 minutes. Columns per second: 2\n",
      "Processed 42029 ( 91.68% ) in 444.93 minutes. Columns per second: 2\n",
      "Processed 42274 ( 92.21% ) in 449.96 minutes. Columns per second: 2\n",
      "Processed 42442 ( 92.58% ) in 455.11 minutes. Columns per second: 2\n",
      "Processed 42789 ( 93.34% ) in 460.11 minutes. Columns per second: 2\n",
      "Processed 42988 ( 93.77% ) in 465.15 minutes. Columns per second: 2\n",
      "Processed 43092 ( 94.00% ) in 470.23 minutes. Columns per second: 2\n",
      "Processed 43209 ( 94.25% ) in 475.30 minutes. Columns per second: 2\n",
      "Processed 43361 ( 94.59% ) in 480.30 minutes. Columns per second: 2\n",
      "Processed 43711 ( 95.35% ) in 485.35 minutes. Columns per second: 2\n",
      "Processed 43837 ( 95.62% ) in 490.43 minutes. Columns per second: 1\n",
      "Processed 43957 ( 95.89% ) in 495.50 minutes. Columns per second: 1\n",
      "Processed 44170 ( 96.35% ) in 500.55 minutes. Columns per second: 1\n",
      "Processed 44596 ( 97.28% ) in 505.66 minutes. Columns per second: 1\n",
      "Processed 44693 ( 97.49% ) in 510.66 minutes. Columns per second: 1\n",
      "Processed 44993 ( 98.15% ) in 515.73 minutes. Columns per second: 1\n",
      "Processed 45109 ( 98.40% ) in 520.81 minutes. Columns per second: 1\n",
      "Processed 45361 ( 98.95% ) in 525.85 minutes. Columns per second: 1\n",
      "Processed 45706 ( 99.70% ) in 530.89 minutes. Columns per second: 1\n",
      "Processed 10000 ( 11.19% ) in 10.97 seconds. Users per second: 911\n",
      "Processed 20000 ( 22.37% ) in 21.84 seconds. Users per second: 916\n",
      "Processed 30000 ( 33.56% ) in 32.63 seconds. Users per second: 919\n",
      "Processed 40000 ( 44.75% ) in 47.27 seconds. Users per second: 846\n",
      "Processed 50000 ( 55.93% ) in 58.17 seconds. Users per second: 859\n",
      "Processed 60000 ( 67.12% ) in 69.07 seconds. Users per second: 869\n",
      "Processed 70000 ( 78.30% ) in 79.75 seconds. Users per second: 878\n",
      "Processed 80000 ( 89.49% ) in 90.54 seconds. Users per second: 884\n",
      "Processed 89395 ( 100.00% ) in 101.00 seconds. Users per second: 885\n"
     ]
    },
    {
     "data": {
      "text/plain": [
       "{'AUC': 0.22716340775873528,\n",
       " 'MRR': 0.2636167539188936,\n",
       " 'NDCG': 0.03100365924008567,\n",
       " 'map': 0.126326774501488,\n",
       " 'precision': 0.16803212671709916,\n",
       " 'recall': 0.014697972614191545}"
      ]
     },
     "execution_count": 9,
     "metadata": {},
     "output_type": "execute_result"
    }
   ],
   "source": [
    "SLIMRSErecommender = SLIM_RMSE(M26_URM_train)\n",
    "SLIMRSErecommender.fit()\n",
    "\n",
    "results_SLIMRSE = SLIMRSErecommender.evaluateRecommendations(M26_URM_test, at=5, exclude_seen=True)\n",
    "results_SLIMRSE"
   ]
  },
  {
   "cell_type": "markdown",
   "metadata": {},
   "source": [
    "## Structured SLIM"
   ]
  },
  {
   "cell_type": "code",
   "execution_count": 10,
   "metadata": {
    "scrolled": true
   },
   "outputs": [
    {
     "name": "stdout",
     "output_type": "stream",
     "text": [
      "SLIM ElasticNet with structure, beginning of the fit process.\n",
      "\n",
      "Similarity column 10000 ( 22 % ), 1445.71 column/sec, elapsed time 0.12 min\n",
      "Similarity column 20000 ( 44 % ), 1455.81 column/sec, elapsed time 0.23 min\n",
      "Similarity column 30000 ( 65 % ), 1496.21 column/sec, elapsed time 0.33 min\n",
      "Similarity column 40000 ( 87 % ), 1540.93 column/sec, elapsed time 0.43 min\n",
      "Similarity column 45843 ( 100 % ), 1553.19 column/sec, elapsed time 0.49 min\n",
      "\n",
      "Start the learning process:\n",
      "Processed 1000 (  2 % ), 3.70 column/sec, elapsed time 4.50 min\n",
      "Processed 2000 (  4 % ), 3.60 column/sec, elapsed time 9.25 min\n",
      "Processed 3000 (  7 % ), 3.94 column/sec, elapsed time 12.69 min\n",
      "Processed 4000 (  9 % ), 4.35 column/sec, elapsed time 15.33 min\n",
      "Processed 5000 ( 11 % ), 4.88 column/sec, elapsed time 17.09 min\n",
      "Processed 6000 ( 13 % ), 5.43 column/sec, elapsed time 18.40 min\n",
      "Processed 7000 ( 15 % ), 5.92 column/sec, elapsed time 19.70 min\n",
      "Processed 8000 ( 17 % ), 6.41 column/sec, elapsed time 20.81 min\n",
      "Processed 9000 ( 20 % ), 7.01 column/sec, elapsed time 21.41 min\n",
      "Processed 10000 ( 22 % ), 7.61 column/sec, elapsed time 21.91 min\n",
      "Processed 11000 ( 24 % ), 8.05 column/sec, elapsed time 22.77 min\n",
      "Processed 12000 ( 26 % ), 8.43 column/sec, elapsed time 23.72 min\n",
      "Processed 13000 ( 28 % ), 8.82 column/sec, elapsed time 24.55 min\n",
      "Processed 14000 ( 31 % ), 9.28 column/sec, elapsed time 25.14 min\n",
      "Processed 15000 ( 33 % ), 9.78 column/sec, elapsed time 25.55 min\n",
      "Processed 16000 ( 35 % ), 10.30 column/sec, elapsed time 25.90 min\n",
      "Processed 17000 ( 37 % ), 10.81 column/sec, elapsed time 26.22 min\n",
      "Processed 18000 ( 39 % ), 11.30 column/sec, elapsed time 26.55 min\n",
      "Processed 19000 ( 41 % ), 11.80 column/sec, elapsed time 26.84 min\n",
      "Processed 20000 ( 44 % ), 12.29 column/sec, elapsed time 27.13 min\n",
      "Processed 21000 ( 46 % ), 12.82 column/sec, elapsed time 27.31 min\n",
      "Processed 22000 ( 48 % ), 13.31 column/sec, elapsed time 27.56 min\n",
      "Processed 23000 ( 50 % ), 13.82 column/sec, elapsed time 27.75 min\n",
      "Processed 24000 ( 52 % ), 14.30 column/sec, elapsed time 27.97 min\n",
      "Processed 25000 ( 55 % ), 14.81 column/sec, elapsed time 28.13 min\n",
      "Processed 26000 ( 57 % ), 15.34 column/sec, elapsed time 28.24 min\n",
      "Processed 27000 ( 59 % ), 15.88 column/sec, elapsed time 28.34 min\n",
      "Processed 28000 ( 61 % ), 16.44 column/sec, elapsed time 28.38 min\n",
      "Processed 29000 ( 63 % ), 16.99 column/sec, elapsed time 28.45 min\n",
      "Processed 30000 ( 65 % ), 17.53 column/sec, elapsed time 28.52 min\n",
      "Processed 31000 ( 68 % ), 18.06 column/sec, elapsed time 28.61 min\n",
      "Processed 32000 ( 70 % ), 18.60 column/sec, elapsed time 28.67 min\n",
      "Processed 33000 ( 72 % ), 19.14 column/sec, elapsed time 28.74 min\n",
      "Processed 34000 ( 74 % ), 19.67 column/sec, elapsed time 28.81 min\n",
      "Processed 35000 ( 76 % ), 20.21 column/sec, elapsed time 28.86 min\n",
      "Processed 36000 ( 79 % ), 20.76 column/sec, elapsed time 28.90 min\n",
      "Processed 37000 ( 81 % ), 21.29 column/sec, elapsed time 28.96 min\n",
      "Processed 38000 ( 83 % ), 21.84 column/sec, elapsed time 28.99 min\n",
      "Processed 39000 ( 85 % ), 22.38 column/sec, elapsed time 29.04 min\n",
      "Processed 40000 ( 87 % ), 22.91 column/sec, elapsed time 29.10 min\n",
      "Processed 41000 ( 89 % ), 23.43 column/sec, elapsed time 29.16 min\n",
      "Processed 42000 ( 92 % ), 23.96 column/sec, elapsed time 29.21 min\n",
      "Processed 43000 ( 94 % ), 24.50 column/sec, elapsed time 29.26 min\n",
      "Processed 44000 ( 96 % ), 25.04 column/sec, elapsed time 29.29 min\n",
      "Processed 45000 ( 98 % ), 25.58 column/sec, elapsed time 29.31 min\n",
      "Processed 45843 ( 100 % ), 26.05 column/sec, elapsed time 29.33 min\n",
      "Processed 10000 ( 11.19% ) in 9.37 seconds. Users per second: 1067\n",
      "Processed 20000 ( 22.37% ) in 18.54 seconds. Users per second: 1079\n",
      "Processed 30000 ( 33.56% ) in 27.69 seconds. Users per second: 1083\n",
      "Processed 40000 ( 44.75% ) in 36.73 seconds. Users per second: 1089\n",
      "Processed 50000 ( 55.93% ) in 45.79 seconds. Users per second: 1092\n",
      "Processed 60000 ( 67.12% ) in 54.89 seconds. Users per second: 1093\n",
      "Processed 70000 ( 78.30% ) in 64.01 seconds. Users per second: 1094\n",
      "Processed 80000 ( 89.49% ) in 73.11 seconds. Users per second: 1094\n",
      "Processed 89395 ( 100.00% ) in 81.71 seconds. Users per second: 1094\n"
     ]
    },
    {
     "data": {
      "text/plain": [
       "{'AUC': 0.0792913926051874,\n",
       " 'MRR': 0.07872350739033451,\n",
       " 'NDCG': 0.005022348592007627,\n",
       " 'map': 0.020681754341481277,\n",
       " 'precision': 0.033979148955207615,\n",
       " 'recall': 0.00219208177663743}"
      ]
     },
     "execution_count": 10,
     "metadata": {},
     "output_type": "execute_result"
    }
   ],
   "source": [
    "strucSLIMrecommender = SLIM_Elastic_Net_Structured(M26_ICM_GEN, M26_URM_train)\n",
    "strucSLIMrecommender.fit()\n",
    "\n",
    "results_strucSLIM = strucSLIMrecommender.evaluateRecommendations(M26_URM_test, at=5, exclude_seen=True)\n",
    "results_strucSLIM"
   ]
  },
  {
   "cell_type": "markdown",
   "metadata": {},
   "source": [
    "### Movielens26 TAGS"
   ]
  },
  {
   "cell_type": "markdown",
   "metadata": {},
   "source": [
    "### KNN collaborative filtering"
   ]
  },
  {
   "cell_type": "code",
   "execution_count": 11,
   "metadata": {},
   "outputs": [
    {
     "name": "stdout",
     "output_type": "stream",
     "text": [
      "Similarity column 10000 ( 22 % ), 283.85 column/sec, elapsed time 0.59 min\n",
      "Similarity column 20000 ( 44 % ), 417.64 column/sec, elapsed time 0.80 min\n",
      "Similarity column 30000 ( 65 % ), 548.11 column/sec, elapsed time 0.91 min\n",
      "Similarity column 40000 ( 87 % ), 665.85 column/sec, elapsed time 1.00 min\n",
      "Similarity column 45843 ( 100 % ), 727.90 column/sec, elapsed time 1.05 min\n",
      "Processed 10000 ( 11.19% ) in 270.62 seconds. Users per second: 37\n",
      "Processed 20000 ( 22.37% ) in 541.27 seconds. Users per second: 37\n",
      "Processed 30000 ( 33.56% ) in 812.69 seconds. Users per second: 37\n",
      "Processed 40000 ( 44.75% ) in 1083.40 seconds. Users per second: 37\n",
      "Processed 50000 ( 55.93% ) in 1354.52 seconds. Users per second: 37\n",
      "Processed 60000 ( 67.12% ) in 1627.08 seconds. Users per second: 37\n",
      "Processed 70000 ( 78.30% ) in 1898.36 seconds. Users per second: 37\n",
      "Processed 80000 ( 89.49% ) in 2169.11 seconds. Users per second: 37\n",
      "Processed 89395 ( 100.00% ) in 2425.66 seconds. Users per second: 37\n"
     ]
    },
    {
     "data": {
      "text/plain": [
       "{'AUC': 0.1653122063627012,\n",
       " 'MRR': 0.19139018151447576,\n",
       " 'NDCG': 0.018977900038729845,\n",
       " 'map': 0.09108725657623755,\n",
       " 'precision': 0.12431652422927689,\n",
       " 'recall': 0.00957347798587911}"
      ]
     },
     "execution_count": 11,
     "metadata": {},
     "output_type": "execute_result"
    }
   ],
   "source": [
    "KNNrecommender = ItemKNNCFRecommender(M26_URM_train)\n",
    "KNNrecommender.fit()\n",
    "\n",
    "results_KNNCFR = KNNrecommender.evaluateRecommendations(M26_URM_test, at=5, exclude_seen=True)\n",
    "results_KNNCFR"
   ]
  },
  {
   "cell_type": "markdown",
   "metadata": {},
   "source": [
    "### KNN content base filtering"
   ]
  },
  {
   "cell_type": "code",
   "execution_count": 12,
   "metadata": {},
   "outputs": [
    {
     "name": "stdout",
     "output_type": "stream",
     "text": [
      "Similarity column 10000 ( 22 % ), 2431.70 column/sec, elapsed time 0.07 min\n",
      "Similarity column 20000 ( 44 % ), 2598.37 column/sec, elapsed time 0.13 min\n",
      "Similarity column 30000 ( 65 % ), 2740.82 column/sec, elapsed time 0.18 min\n",
      "Similarity column 40000 ( 87 % ), 2844.59 column/sec, elapsed time 0.23 min\n",
      "Similarity column 45843 ( 100 % ), 2901.64 column/sec, elapsed time 0.26 min\n",
      "Processed 10000 ( 11.19% ) in 180.71 seconds. Users per second: 55\n",
      "Processed 20000 ( 22.37% ) in 360.27 seconds. Users per second: 56\n",
      "Processed 30000 ( 33.56% ) in 539.82 seconds. Users per second: 56\n",
      "Processed 40000 ( 44.75% ) in 720.28 seconds. Users per second: 56\n",
      "Processed 50000 ( 55.93% ) in 900.16 seconds. Users per second: 56\n",
      "Processed 60000 ( 67.12% ) in 1080.21 seconds. Users per second: 56\n",
      "Processed 70000 ( 78.30% ) in 1262.17 seconds. Users per second: 55\n",
      "Processed 80000 ( 89.49% ) in 1440.81 seconds. Users per second: 56\n",
      "Processed 89395 ( 100.00% ) in 1608.85 seconds. Users per second: 56\n"
     ]
    },
    {
     "data": {
      "text/plain": [
       "{'AUC': 0.09306531239279914,\n",
       " 'MRR': 0.09721575909436314,\n",
       " 'NDCG': 0.006260217303837109,\n",
       " 'map': 0.03198887534117678,\n",
       " 'precision': 0.04987471475232986,\n",
       " 'recall': 0.003100330259478841}"
      ]
     },
     "execution_count": 12,
     "metadata": {},
     "output_type": "execute_result"
    }
   ],
   "source": [
    "KNNCBrecommender = ItemKNNCBFRecommender(M26_ICM_TAG, M26_URM_train)\n",
    "KNNCBrecommender.fit()\n",
    "\n",
    "results_KNNCBFR = KNNCBrecommender.evaluateRecommendations(M26_URM_test, at=5, exclude_seen=True)\n",
    "results_KNNCBFR"
   ]
  },
  {
   "cell_type": "markdown",
   "metadata": {},
   "source": [
    "### SLIM ElasticNet"
   ]
  },
  {
   "cell_type": "code",
   "execution_count": 13,
   "metadata": {},
   "outputs": [
    {
     "name": "stdout",
     "output_type": "stream",
     "text": [
      "Processed 1345 ( 2.93% ) in 5.00 minutes. Columns per second: 4\n",
      "Processed 3124 ( 6.81% ) in 10.00 minutes. Columns per second: 5\n",
      "Processed 5172 ( 11.28% ) in 15.00 minutes. Columns per second: 6\n",
      "Processed 7178 ( 15.66% ) in 20.00 minutes. Columns per second: 6\n",
      "Processed 9025 ( 19.69% ) in 25.00 minutes. Columns per second: 6\n",
      "Processed 10578 ( 23.07% ) in 30.01 minutes. Columns per second: 6\n",
      "Processed 12488 ( 27.24% ) in 35.11 minutes. Columns per second: 6\n",
      "Processed 14206 ( 30.99% ) in 40.11 minutes. Columns per second: 6\n",
      "Processed 15409 ( 33.61% ) in 45.11 minutes. Columns per second: 6\n",
      "Processed 16245 ( 35.44% ) in 50.11 minutes. Columns per second: 5\n",
      "Processed 17504 ( 38.18% ) in 55.17 minutes. Columns per second: 5\n",
      "Processed 18638 ( 40.66% ) in 60.17 minutes. Columns per second: 5\n",
      "Processed 19273 ( 42.04% ) in 65.17 minutes. Columns per second: 5\n",
      "Processed 19874 ( 43.35% ) in 70.20 minutes. Columns per second: 5\n",
      "Processed 20308 ( 44.30% ) in 75.20 minutes. Columns per second: 5\n",
      "Processed 20967 ( 45.74% ) in 80.23 minutes. Columns per second: 4\n",
      "Processed 21649 ( 47.22% ) in 85.25 minutes. Columns per second: 4\n",
      "Processed 22248 ( 48.53% ) in 90.35 minutes. Columns per second: 4\n",
      "Processed 22793 ( 49.72% ) in 95.46 minutes. Columns per second: 4\n",
      "Processed 23253 ( 50.72% ) in 100.56 minutes. Columns per second: 4\n",
      "Processed 23662 ( 51.62% ) in 105.65 minutes. Columns per second: 4\n",
      "Processed 24076 ( 52.52% ) in 110.65 minutes. Columns per second: 4\n",
      "Processed 24429 ( 53.29% ) in 115.67 minutes. Columns per second: 4\n",
      "Processed 24791 ( 54.08% ) in 120.70 minutes. Columns per second: 3\n",
      "Processed 25040 ( 54.62% ) in 125.75 minutes. Columns per second: 3\n",
      "Processed 25346 ( 55.29% ) in 130.82 minutes. Columns per second: 3\n",
      "Processed 25594 ( 55.83% ) in 135.91 minutes. Columns per second: 3\n",
      "Processed 25776 ( 56.23% ) in 140.96 minutes. Columns per second: 3\n",
      "Processed 25965 ( 56.64% ) in 146.05 minutes. Columns per second: 3\n",
      "Processed 26214 ( 57.18% ) in 151.06 minutes. Columns per second: 3\n",
      "Processed 26473 ( 57.75% ) in 156.14 minutes. Columns per second: 3\n",
      "Processed 26616 ( 58.06% ) in 161.24 minutes. Columns per second: 3\n",
      "Processed 26887 ( 58.65% ) in 166.34 minutes. Columns per second: 3\n",
      "Processed 27176 ( 59.28% ) in 171.43 minutes. Columns per second: 3\n",
      "Processed 27405 ( 59.78% ) in 176.49 minutes. Columns per second: 3\n",
      "Processed 27618 ( 60.24% ) in 181.53 minutes. Columns per second: 3\n",
      "Processed 28057 ( 61.20% ) in 186.64 minutes. Columns per second: 3\n",
      "Processed 28313 ( 61.76% ) in 191.74 minutes. Columns per second: 2\n",
      "Processed 28505 ( 62.18% ) in 196.82 minutes. Columns per second: 2\n",
      "Processed 28792 ( 62.81% ) in 201.92 minutes. Columns per second: 2\n",
      "Processed 29061 ( 63.39% ) in 206.99 minutes. Columns per second: 2\n",
      "Processed 29414 ( 64.16% ) in 212.02 minutes. Columns per second: 2\n",
      "Processed 29692 ( 64.77% ) in 217.04 minutes. Columns per second: 2\n",
      "Processed 29956 ( 65.34% ) in 222.14 minutes. Columns per second: 2\n",
      "Processed 30292 ( 66.08% ) in 227.23 minutes. Columns per second: 2\n",
      "Processed 30538 ( 66.61% ) in 232.32 minutes. Columns per second: 2\n",
      "Processed 30847 ( 67.29% ) in 237.34 minutes. Columns per second: 2\n",
      "Processed 31151 ( 67.95% ) in 242.35 minutes. Columns per second: 2\n",
      "Processed 31472 ( 68.65% ) in 247.38 minutes. Columns per second: 2\n",
      "Processed 31727 ( 69.21% ) in 252.39 minutes. Columns per second: 2\n",
      "Processed 32118 ( 70.06% ) in 257.48 minutes. Columns per second: 2\n",
      "Processed 32425 ( 70.73% ) in 262.57 minutes. Columns per second: 2\n",
      "Processed 32608 ( 71.13% ) in 267.65 minutes. Columns per second: 2\n",
      "Processed 32889 ( 71.74% ) in 272.77 minutes. Columns per second: 2\n",
      "Processed 33344 ( 72.74% ) in 277.88 minutes. Columns per second: 2\n",
      "Processed 33688 ( 73.49% ) in 282.94 minutes. Columns per second: 2\n",
      "Processed 33880 ( 73.90% ) in 288.01 minutes. Columns per second: 2\n",
      "Processed 34300 ( 74.82% ) in 293.12 minutes. Columns per second: 2\n",
      "Processed 34540 ( 75.34% ) in 298.15 minutes. Columns per second: 2\n",
      "Processed 34635 ( 75.55% ) in 303.26 minutes. Columns per second: 2\n",
      "Processed 34739 ( 75.78% ) in 308.37 minutes. Columns per second: 2\n",
      "Processed 35022 ( 76.40% ) in 313.42 minutes. Columns per second: 2\n",
      "Processed 35268 ( 76.93% ) in 318.45 minutes. Columns per second: 2\n",
      "Processed 35588 ( 77.63% ) in 323.50 minutes. Columns per second: 2\n",
      "Processed 35808 ( 78.11% ) in 328.65 minutes. Columns per second: 2\n",
      "Processed 35977 ( 78.48% ) in 333.77 minutes. Columns per second: 2\n",
      "Processed 36236 ( 79.04% ) in 338.88 minutes. Columns per second: 2\n",
      "Processed 36524 ( 79.67% ) in 343.92 minutes. Columns per second: 2\n",
      "Processed 36752 ( 80.17% ) in 348.95 minutes. Columns per second: 2\n",
      "Processed 36894 ( 80.48% ) in 353.96 minutes. Columns per second: 2\n",
      "Processed 37256 ( 81.27% ) in 358.96 minutes. Columns per second: 2\n",
      "Processed 37709 ( 82.26% ) in 363.97 minutes. Columns per second: 2\n",
      "Processed 38023 ( 82.94% ) in 368.99 minutes. Columns per second: 2\n",
      "Processed 38216 ( 83.36% ) in 374.02 minutes. Columns per second: 2\n",
      "Processed 38400 ( 83.76% ) in 379.05 minutes. Columns per second: 2\n",
      "Processed 38725 ( 84.47% ) in 384.07 minutes. Columns per second: 2\n",
      "Processed 38976 ( 85.02% ) in 389.12 minutes. Columns per second: 2\n",
      "Processed 39272 ( 85.67% ) in 394.20 minutes. Columns per second: 2\n",
      "Processed 39488 ( 86.14% ) in 399.27 minutes. Columns per second: 2\n",
      "Processed 39754 ( 86.72% ) in 404.32 minutes. Columns per second: 2\n",
      "Processed 40000 ( 87.25% ) in 409.38 minutes. Columns per second: 2\n",
      "Processed 40189 ( 87.67% ) in 414.42 minutes. Columns per second: 2\n",
      "Processed 40326 ( 87.97% ) in 419.43 minutes. Columns per second: 2\n",
      "Processed 40606 ( 88.58% ) in 424.54 minutes. Columns per second: 2\n",
      "Processed 40783 ( 88.96% ) in 429.54 minutes. Columns per second: 2\n",
      "Processed 41072 ( 89.59% ) in 434.62 minutes. Columns per second: 2\n",
      "Processed 41215 ( 89.90% ) in 439.65 minutes. Columns per second: 2\n",
      "Processed 41396 ( 90.30% ) in 444.74 minutes. Columns per second: 2\n",
      "Processed 41584 ( 90.71% ) in 449.86 minutes. Columns per second: 2\n",
      "Processed 41780 ( 91.14% ) in 454.95 minutes. Columns per second: 2\n",
      "Processed 41991 ( 91.60% ) in 460.03 minutes. Columns per second: 2\n",
      "Processed 42271 ( 92.21% ) in 465.07 minutes. Columns per second: 2\n",
      "Processed 42451 ( 92.60% ) in 470.11 minutes. Columns per second: 2\n",
      "Processed 42822 ( 93.41% ) in 475.20 minutes. Columns per second: 2\n",
      "Processed 42994 ( 93.79% ) in 480.28 minutes. Columns per second: 1\n",
      "Processed 43095 ( 94.01% ) in 485.39 minutes. Columns per second: 1\n",
      "Processed 43210 ( 94.26% ) in 490.42 minutes. Columns per second: 1\n",
      "Processed 43358 ( 94.58% ) in 495.53 minutes. Columns per second: 1\n",
      "Processed 43698 ( 95.32% ) in 500.54 minutes. Columns per second: 1\n",
      "Processed 43825 ( 95.60% ) in 505.56 minutes. Columns per second: 1\n",
      "Processed 43952 ( 95.88% ) in 510.61 minutes. Columns per second: 1\n",
      "Processed 44124 ( 96.25% ) in 515.70 minutes. Columns per second: 1\n",
      "Processed 44588 ( 97.26% ) in 520.76 minutes. Columns per second: 1\n",
      "Processed 44663 ( 97.43% ) in 525.83 minutes. Columns per second: 1\n",
      "Processed 44935 ( 98.02% ) in 530.87 minutes. Columns per second: 1\n",
      "Processed 45082 ( 98.34% ) in 535.99 minutes. Columns per second: 1\n",
      "Processed 45289 ( 98.79% ) in 540.99 minutes. Columns per second: 1\n",
      "Processed 45574 ( 99.41% ) in 546.05 minutes. Columns per second: 1\n",
      "Processed 45768 ( 99.84% ) in 551.11 minutes. Columns per second: 1\n",
      "Processed 10000 ( 11.19% ) in 11.14 seconds. Users per second: 898\n",
      "Processed 20000 ( 22.37% ) in 22.07 seconds. Users per second: 906\n",
      "Processed 30000 ( 33.56% ) in 32.82 seconds. Users per second: 914\n",
      "Processed 40000 ( 44.75% ) in 43.52 seconds. Users per second: 919\n",
      "Processed 50000 ( 55.93% ) in 54.18 seconds. Users per second: 923\n",
      "Processed 60000 ( 67.12% ) in 65.01 seconds. Users per second: 923\n",
      "Processed 70000 ( 78.30% ) in 75.62 seconds. Users per second: 926\n",
      "Processed 80000 ( 89.49% ) in 86.17 seconds. Users per second: 928\n",
      "Processed 89395 ( 100.00% ) in 96.06 seconds. Users per second: 931\n"
     ]
    },
    {
     "data": {
      "text/plain": [
       "{'AUC': 0.22714569630259254,\n",
       " 'MRR': 0.2636120930093823,\n",
       " 'NDCG': 0.03100516643268517,\n",
       " 'map': 0.12632975748357522,\n",
       " 'precision': 0.16804331289992616,\n",
       " 'recall': 0.01469823350972618}"
      ]
     },
     "execution_count": 13,
     "metadata": {},
     "output_type": "execute_result"
    }
   ],
   "source": [
    "SLIMRSErecommender = SLIM_RMSE(M26_URM_train)\n",
    "SLIMRSErecommender.fit()\n",
    "\n",
    "results_SLIMRSE = SLIMRSErecommender.evaluateRecommendations(M26_URM_test, at=5, exclude_seen=True)\n",
    "results_SLIMRSE"
   ]
  },
  {
   "cell_type": "markdown",
   "metadata": {},
   "source": [
    "## Structured SLIM"
   ]
  },
  {
   "cell_type": "code",
   "execution_count": 14,
   "metadata": {},
   "outputs": [
    {
     "name": "stdout",
     "output_type": "stream",
     "text": [
      "SLIM ElasticNet with structure, beginning of the fit process.\n",
      "\n",
      "Similarity column 10000 ( 22 % ), 2475.88 column/sec, elapsed time 0.07 min\n",
      "Similarity column 20000 ( 44 % ), 2641.61 column/sec, elapsed time 0.13 min\n",
      "Similarity column 30000 ( 65 % ), 2776.96 column/sec, elapsed time 0.18 min\n",
      "Similarity column 40000 ( 87 % ), 2877.94 column/sec, elapsed time 0.23 min\n",
      "Similarity column 45843 ( 100 % ), 2920.00 column/sec, elapsed time 0.26 min\n",
      "\n",
      "Start the learning process:\n",
      "Processed 1000 (  2 % ), 3.16 column/sec, elapsed time 5.27 min\n",
      "Processed 2000 (  4 % ), 3.06 column/sec, elapsed time 10.90 min\n",
      "Processed 3000 (  7 % ), 3.35 column/sec, elapsed time 14.90 min\n",
      "Processed 4000 (  9 % ), 3.70 column/sec, elapsed time 18.03 min\n",
      "Processed 5000 ( 11 % ), 4.16 column/sec, elapsed time 20.05 min\n",
      "Processed 6000 ( 13 % ), 4.64 column/sec, elapsed time 21.56 min\n",
      "Processed 7000 ( 15 % ), 5.06 column/sec, elapsed time 23.06 min\n",
      "Processed 8000 ( 17 % ), 5.49 column/sec, elapsed time 24.29 min\n",
      "Processed 9000 ( 20 % ), 6.01 column/sec, elapsed time 24.95 min\n",
      "Processed 10000 ( 22 % ), 6.53 column/sec, elapsed time 25.51 min\n",
      "Processed 11000 ( 24 % ), 6.92 column/sec, elapsed time 26.48 min\n",
      "Processed 12000 ( 26 % ), 7.26 column/sec, elapsed time 27.55 min\n",
      "Processed 13000 ( 28 % ), 7.60 column/sec, elapsed time 28.50 min\n",
      "Processed 14000 ( 31 % ), 8.00 column/sec, elapsed time 29.15 min\n",
      "Processed 15000 ( 33 % ), 8.44 column/sec, elapsed time 29.61 min\n",
      "Processed 16000 ( 35 % ), 8.89 column/sec, elapsed time 29.99 min\n",
      "Processed 17000 ( 37 % ), 9.34 column/sec, elapsed time 30.34 min\n",
      "Processed 18000 ( 39 % ), 9.77 column/sec, elapsed time 30.69 min\n",
      "Processed 19000 ( 41 % ), 10.21 column/sec, elapsed time 31.01 min\n",
      "Processed 20000 ( 44 % ), 10.64 column/sec, elapsed time 31.33 min\n",
      "Processed 21000 ( 46 % ), 11.10 column/sec, elapsed time 31.52 min\n",
      "Processed 22000 ( 48 % ), 11.53 column/sec, elapsed time 31.80 min\n",
      "Processed 23000 ( 50 % ), 11.98 column/sec, elapsed time 32.00 min\n",
      "Processed 24000 ( 52 % ), 12.39 column/sec, elapsed time 32.27 min\n",
      "Processed 25000 ( 55 % ), 12.84 column/sec, elapsed time 32.45 min\n",
      "Processed 26000 ( 57 % ), 13.30 column/sec, elapsed time 32.58 min\n",
      "Processed 27000 ( 59 % ), 13.77 column/sec, elapsed time 32.69 min\n",
      "Processed 28000 ( 61 % ), 14.26 column/sec, elapsed time 32.72 min\n",
      "Processed 29000 ( 63 % ), 14.74 column/sec, elapsed time 32.80 min\n",
      "Processed 30000 ( 65 % ), 15.21 column/sec, elapsed time 32.87 min\n",
      "Processed 31000 ( 68 % ), 15.67 column/sec, elapsed time 32.97 min\n",
      "Processed 32000 ( 70 % ), 16.14 column/sec, elapsed time 33.04 min\n",
      "Processed 33000 ( 72 % ), 16.61 column/sec, elapsed time 33.11 min\n",
      "Processed 34000 ( 74 % ), 17.08 column/sec, elapsed time 33.18 min\n",
      "Processed 35000 ( 76 % ), 17.56 column/sec, elapsed time 33.23 min\n",
      "Processed 36000 ( 79 % ), 18.03 column/sec, elapsed time 33.28 min\n",
      "Processed 37000 ( 81 % ), 18.50 column/sec, elapsed time 33.33 min\n",
      "Processed 38000 ( 83 % ), 18.98 column/sec, elapsed time 33.37 min\n",
      "Processed 39000 ( 85 % ), 19.45 column/sec, elapsed time 33.42 min\n",
      "Processed 40000 ( 87 % ), 19.91 column/sec, elapsed time 33.48 min\n",
      "Processed 41000 ( 89 % ), 20.37 column/sec, elapsed time 33.54 min\n",
      "Processed 42000 ( 92 % ), 20.84 column/sec, elapsed time 33.60 min\n",
      "Processed 43000 ( 94 % ), 21.30 column/sec, elapsed time 33.64 min\n",
      "Processed 44000 ( 96 % ), 21.78 column/sec, elapsed time 33.67 min\n",
      "Processed 45000 ( 98 % ), 22.26 column/sec, elapsed time 33.70 min\n",
      "Processed 45843 ( 100 % ), 22.66 column/sec, elapsed time 33.72 min\n",
      "Processed 10000 ( 11.19% ) in 11.96 seconds. Users per second: 836\n",
      "Processed 20000 ( 22.37% ) in 23.82 seconds. Users per second: 840\n",
      "Processed 30000 ( 33.56% ) in 35.74 seconds. Users per second: 839\n",
      "Processed 40000 ( 44.75% ) in 47.55 seconds. Users per second: 841\n",
      "Processed 50000 ( 55.93% ) in 59.45 seconds. Users per second: 841\n",
      "Processed 60000 ( 67.12% ) in 71.41 seconds. Users per second: 840\n",
      "Processed 70000 ( 78.30% ) in 83.48 seconds. Users per second: 839\n",
      "Processed 80000 ( 89.49% ) in 95.39 seconds. Users per second: 839\n",
      "Processed 89395 ( 100.00% ) in 106.58 seconds. Users per second: 839\n"
     ]
    },
    {
     "data": {
      "text/plain": [
       "{'AUC': 0.032017651796500984,\n",
       " 'MRR': 0.030920660133935844,\n",
       " 'NDCG': 0.0021933634099461337,\n",
       " 'map': 0.007511139573732084,\n",
       " 'precision': 0.01480826882634708,\n",
       " 'recall': 0.0011481825420549612}"
      ]
     },
     "execution_count": 14,
     "metadata": {},
     "output_type": "execute_result"
    }
   ],
   "source": [
    "strucSLIMrecommender = SLIM_Elastic_Net_Structured(M26_ICM_TAG, M26_URM_train)\n",
    "strucSLIMrecommender.fit()\n",
    "\n",
    "results_strucSLIM = strucSLIMrecommender.evaluateRecommendations(M26_URM_test, at=5, exclude_seen=True)\n",
    "results_strucSLIM"
   ]
  },
  {
   "cell_type": "code",
   "execution_count": null,
   "metadata": {},
   "outputs": [],
   "source": []
  }
 ],
 "metadata": {
  "kernelspec": {
   "display_name": "Python 3",
   "language": "python",
   "name": "python3"
  },
  "language_info": {
   "codemirror_mode": {
    "name": "ipython",
    "version": 3
   },
   "file_extension": ".py",
   "mimetype": "text/x-python",
   "name": "python",
   "nbconvert_exporter": "python",
   "pygments_lexer": "ipython3",
   "version": "3.6.4"
  }
 },
 "nbformat": 4,
 "nbformat_minor": 2
}
